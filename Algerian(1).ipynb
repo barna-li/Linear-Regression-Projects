{
 "cells": [
  {
   "cell_type": "code",
   "execution_count": 1,
   "id": "84a0052c",
   "metadata": {},
   "outputs": [],
   "source": [
    "import pandas as pd\n",
    "import numpy as np\n",
    "import seaborn as sns\n",
    "import matplotlib.pyplot as plt\n",
    "%matplotlib inline"
   ]
  },
  {
   "cell_type": "code",
   "execution_count": 2,
   "id": "7729253b",
   "metadata": {},
   "outputs": [
    {
     "data": {
      "text/html": [
       "<div>\n",
       "<style scoped>\n",
       "    .dataframe tbody tr th:only-of-type {\n",
       "        vertical-align: middle;\n",
       "    }\n",
       "\n",
       "    .dataframe tbody tr th {\n",
       "        vertical-align: top;\n",
       "    }\n",
       "\n",
       "    .dataframe thead th {\n",
       "        text-align: right;\n",
       "    }\n",
       "</style>\n",
       "<table border=\"1\" class=\"dataframe\">\n",
       "  <thead>\n",
       "    <tr style=\"text-align: right;\">\n",
       "      <th></th>\n",
       "      <th>day</th>\n",
       "      <th>month</th>\n",
       "      <th>year</th>\n",
       "      <th>Temperature</th>\n",
       "      <th>RH</th>\n",
       "      <th>Ws</th>\n",
       "      <th>Rain</th>\n",
       "      <th>FFMC</th>\n",
       "      <th>DMC</th>\n",
       "      <th>DC</th>\n",
       "      <th>ISI</th>\n",
       "      <th>BUI</th>\n",
       "      <th>FWI</th>\n",
       "      <th>Classes</th>\n",
       "    </tr>\n",
       "  </thead>\n",
       "  <tbody>\n",
       "    <tr>\n",
       "      <th>0</th>\n",
       "      <td>01</td>\n",
       "      <td>06</td>\n",
       "      <td>2012</td>\n",
       "      <td>29</td>\n",
       "      <td>57</td>\n",
       "      <td>18</td>\n",
       "      <td>0</td>\n",
       "      <td>65.7</td>\n",
       "      <td>3.4</td>\n",
       "      <td>7.6</td>\n",
       "      <td>1.3</td>\n",
       "      <td>3.4</td>\n",
       "      <td>0.5</td>\n",
       "      <td>not fire</td>\n",
       "    </tr>\n",
       "    <tr>\n",
       "      <th>1</th>\n",
       "      <td>02</td>\n",
       "      <td>06</td>\n",
       "      <td>2012</td>\n",
       "      <td>29</td>\n",
       "      <td>61</td>\n",
       "      <td>13</td>\n",
       "      <td>1.3</td>\n",
       "      <td>64.4</td>\n",
       "      <td>4.1</td>\n",
       "      <td>7.6</td>\n",
       "      <td>1</td>\n",
       "      <td>3.9</td>\n",
       "      <td>0.4</td>\n",
       "      <td>not fire</td>\n",
       "    </tr>\n",
       "    <tr>\n",
       "      <th>2</th>\n",
       "      <td>03</td>\n",
       "      <td>06</td>\n",
       "      <td>2012</td>\n",
       "      <td>26</td>\n",
       "      <td>82</td>\n",
       "      <td>22</td>\n",
       "      <td>13.1</td>\n",
       "      <td>47.1</td>\n",
       "      <td>2.5</td>\n",
       "      <td>7.1</td>\n",
       "      <td>0.3</td>\n",
       "      <td>2.7</td>\n",
       "      <td>0.1</td>\n",
       "      <td>not fire</td>\n",
       "    </tr>\n",
       "    <tr>\n",
       "      <th>3</th>\n",
       "      <td>04</td>\n",
       "      <td>06</td>\n",
       "      <td>2012</td>\n",
       "      <td>25</td>\n",
       "      <td>89</td>\n",
       "      <td>13</td>\n",
       "      <td>2.5</td>\n",
       "      <td>28.6</td>\n",
       "      <td>1.3</td>\n",
       "      <td>6.9</td>\n",
       "      <td>0</td>\n",
       "      <td>1.7</td>\n",
       "      <td>0</td>\n",
       "      <td>not fire</td>\n",
       "    </tr>\n",
       "    <tr>\n",
       "      <th>4</th>\n",
       "      <td>05</td>\n",
       "      <td>06</td>\n",
       "      <td>2012</td>\n",
       "      <td>27</td>\n",
       "      <td>77</td>\n",
       "      <td>16</td>\n",
       "      <td>0</td>\n",
       "      <td>64.8</td>\n",
       "      <td>3</td>\n",
       "      <td>14.2</td>\n",
       "      <td>1.2</td>\n",
       "      <td>3.9</td>\n",
       "      <td>0.5</td>\n",
       "      <td>not fire</td>\n",
       "    </tr>\n",
       "    <tr>\n",
       "      <th>...</th>\n",
       "      <td>...</td>\n",
       "      <td>...</td>\n",
       "      <td>...</td>\n",
       "      <td>...</td>\n",
       "      <td>...</td>\n",
       "      <td>...</td>\n",
       "      <td>...</td>\n",
       "      <td>...</td>\n",
       "      <td>...</td>\n",
       "      <td>...</td>\n",
       "      <td>...</td>\n",
       "      <td>...</td>\n",
       "      <td>...</td>\n",
       "      <td>...</td>\n",
       "    </tr>\n",
       "    <tr>\n",
       "      <th>241</th>\n",
       "      <td>26</td>\n",
       "      <td>09</td>\n",
       "      <td>2012</td>\n",
       "      <td>30</td>\n",
       "      <td>65</td>\n",
       "      <td>14</td>\n",
       "      <td>0</td>\n",
       "      <td>85.4</td>\n",
       "      <td>16</td>\n",
       "      <td>44.5</td>\n",
       "      <td>4.5</td>\n",
       "      <td>16.9</td>\n",
       "      <td>6.5</td>\n",
       "      <td>fire</td>\n",
       "    </tr>\n",
       "    <tr>\n",
       "      <th>242</th>\n",
       "      <td>27</td>\n",
       "      <td>09</td>\n",
       "      <td>2012</td>\n",
       "      <td>28</td>\n",
       "      <td>87</td>\n",
       "      <td>15</td>\n",
       "      <td>4.4</td>\n",
       "      <td>41.1</td>\n",
       "      <td>6.5</td>\n",
       "      <td>8</td>\n",
       "      <td>0.1</td>\n",
       "      <td>6.2</td>\n",
       "      <td>0</td>\n",
       "      <td>not fire</td>\n",
       "    </tr>\n",
       "    <tr>\n",
       "      <th>243</th>\n",
       "      <td>28</td>\n",
       "      <td>09</td>\n",
       "      <td>2012</td>\n",
       "      <td>27</td>\n",
       "      <td>87</td>\n",
       "      <td>29</td>\n",
       "      <td>0.5</td>\n",
       "      <td>45.9</td>\n",
       "      <td>3.5</td>\n",
       "      <td>7.9</td>\n",
       "      <td>0.4</td>\n",
       "      <td>3.4</td>\n",
       "      <td>0.2</td>\n",
       "      <td>not fire</td>\n",
       "    </tr>\n",
       "    <tr>\n",
       "      <th>244</th>\n",
       "      <td>29</td>\n",
       "      <td>09</td>\n",
       "      <td>2012</td>\n",
       "      <td>24</td>\n",
       "      <td>54</td>\n",
       "      <td>18</td>\n",
       "      <td>0.1</td>\n",
       "      <td>79.7</td>\n",
       "      <td>4.3</td>\n",
       "      <td>15.2</td>\n",
       "      <td>1.7</td>\n",
       "      <td>5.1</td>\n",
       "      <td>0.7</td>\n",
       "      <td>not fire</td>\n",
       "    </tr>\n",
       "    <tr>\n",
       "      <th>245</th>\n",
       "      <td>30</td>\n",
       "      <td>09</td>\n",
       "      <td>2012</td>\n",
       "      <td>24</td>\n",
       "      <td>64</td>\n",
       "      <td>15</td>\n",
       "      <td>0.2</td>\n",
       "      <td>67.3</td>\n",
       "      <td>3.8</td>\n",
       "      <td>16.5</td>\n",
       "      <td>1.2</td>\n",
       "      <td>4.8</td>\n",
       "      <td>0.5</td>\n",
       "      <td>not fire</td>\n",
       "    </tr>\n",
       "  </tbody>\n",
       "</table>\n",
       "<p>246 rows × 14 columns</p>\n",
       "</div>"
      ],
      "text/plain": [
       "    day month  year Temperature  RH  Ws Rain   FFMC  DMC    DC  ISI   BUI  \\\n",
       "0    01    06  2012          29  57  18     0  65.7  3.4   7.6  1.3   3.4   \n",
       "1    02    06  2012          29  61  13   1.3  64.4  4.1   7.6    1   3.9   \n",
       "2    03    06  2012          26  82  22  13.1  47.1  2.5   7.1  0.3   2.7   \n",
       "3    04    06  2012          25  89  13   2.5  28.6  1.3   6.9    0   1.7   \n",
       "4    05    06  2012          27  77  16     0  64.8    3  14.2  1.2   3.9   \n",
       "..   ..   ...   ...         ...  ..  ..   ...   ...  ...   ...  ...   ...   \n",
       "241  26    09  2012          30  65  14     0  85.4   16  44.5  4.5  16.9   \n",
       "242  27    09  2012          28  87  15   4.4  41.1  6.5     8  0.1   6.2   \n",
       "243  28    09  2012          27  87  29   0.5  45.9  3.5   7.9  0.4   3.4   \n",
       "244  29    09  2012          24  54  18   0.1  79.7  4.3  15.2  1.7   5.1   \n",
       "245  30    09  2012          24  64  15   0.2  67.3  3.8  16.5  1.2   4.8   \n",
       "\n",
       "     FWI     Classes    \n",
       "0    0.5   not fire     \n",
       "1    0.4   not fire     \n",
       "2    0.1   not fire     \n",
       "3      0   not fire     \n",
       "4    0.5   not fire     \n",
       "..   ...           ...  \n",
       "241  6.5       fire     \n",
       "242    0   not fire     \n",
       "243  0.2   not fire     \n",
       "244  0.7   not fire     \n",
       "245  0.5  not fire      \n",
       "\n",
       "[246 rows x 14 columns]"
      ]
     },
     "execution_count": 2,
     "metadata": {},
     "output_type": "execute_result"
    }
   ],
   "source": [
    "\n",
    "alg = pd.read_csv('/Users/barnalikkapradhan/Downloads/Algerian.csv', header = 1)\n",
    "alg"
   ]
  },
  {
   "cell_type": "code",
   "execution_count": 3,
   "id": "83846bd6",
   "metadata": {},
   "outputs": [
    {
     "data": {
      "text/plain": [
       "Index(['day', 'month', 'year', 'Temperature', ' RH', ' Ws', 'Rain ', 'FFMC',\n",
       "       'DMC', 'DC', 'ISI', 'BUI', 'FWI', 'Classes  '],\n",
       "      dtype='object')"
      ]
     },
     "execution_count": 3,
     "metadata": {},
     "output_type": "execute_result"
    }
   ],
   "source": [
    "#to strip all the columns from the dataset\n",
    "alg.columns"
   ]
  },
  {
   "cell_type": "code",
   "execution_count": 4,
   "id": "3e2ec13a",
   "metadata": {},
   "outputs": [
    {
     "data": {
      "text/plain": [
       "Index(['day', 'month', 'year', 'Temperature', 'RH', 'Ws', 'Rain', 'FFMC',\n",
       "       'DMC', 'DC', 'ISI', 'BUI', 'FWI', 'Classes'],\n",
       "      dtype='object')"
      ]
     },
     "execution_count": 4,
     "metadata": {},
     "output_type": "execute_result"
    }
   ],
   "source": [
    "#one can see gaps in the column, so that has to be removed\n",
    "alg.columns = [i.strip() for i in alg.columns] \n",
    "alg.columns"
   ]
  },
  {
   "cell_type": "code",
   "execution_count": 5,
   "id": "0464443f",
   "metadata": {},
   "outputs": [
    {
     "data": {
      "text/html": [
       "<div>\n",
       "<style scoped>\n",
       "    .dataframe tbody tr th:only-of-type {\n",
       "        vertical-align: middle;\n",
       "    }\n",
       "\n",
       "    .dataframe tbody tr th {\n",
       "        vertical-align: top;\n",
       "    }\n",
       "\n",
       "    .dataframe thead th {\n",
       "        text-align: right;\n",
       "    }\n",
       "</style>\n",
       "<table border=\"1\" class=\"dataframe\">\n",
       "  <thead>\n",
       "    <tr style=\"text-align: right;\">\n",
       "      <th></th>\n",
       "      <th>day</th>\n",
       "      <th>month</th>\n",
       "      <th>year</th>\n",
       "      <th>Temperature</th>\n",
       "      <th>RH</th>\n",
       "      <th>Ws</th>\n",
       "      <th>Rain</th>\n",
       "      <th>FFMC</th>\n",
       "      <th>DMC</th>\n",
       "      <th>DC</th>\n",
       "      <th>ISI</th>\n",
       "      <th>BUI</th>\n",
       "      <th>FWI</th>\n",
       "      <th>Classes</th>\n",
       "    </tr>\n",
       "  </thead>\n",
       "  <tbody>\n",
       "    <tr>\n",
       "      <th>120</th>\n",
       "      <td>29</td>\n",
       "      <td>09</td>\n",
       "      <td>2012</td>\n",
       "      <td>26</td>\n",
       "      <td>80</td>\n",
       "      <td>16</td>\n",
       "      <td>1.8</td>\n",
       "      <td>47.4</td>\n",
       "      <td>2.9</td>\n",
       "      <td>7.7</td>\n",
       "      <td>0.3</td>\n",
       "      <td>3</td>\n",
       "      <td>0.1</td>\n",
       "      <td>not fire</td>\n",
       "    </tr>\n",
       "    <tr>\n",
       "      <th>121</th>\n",
       "      <td>30</td>\n",
       "      <td>09</td>\n",
       "      <td>2012</td>\n",
       "      <td>25</td>\n",
       "      <td>78</td>\n",
       "      <td>14</td>\n",
       "      <td>1.4</td>\n",
       "      <td>45</td>\n",
       "      <td>1.9</td>\n",
       "      <td>7.5</td>\n",
       "      <td>0.2</td>\n",
       "      <td>2.4</td>\n",
       "      <td>0.1</td>\n",
       "      <td>not fire</td>\n",
       "    </tr>\n",
       "    <tr>\n",
       "      <th>124</th>\n",
       "      <td>01</td>\n",
       "      <td>06</td>\n",
       "      <td>2012</td>\n",
       "      <td>32</td>\n",
       "      <td>71</td>\n",
       "      <td>12</td>\n",
       "      <td>0.7</td>\n",
       "      <td>57.1</td>\n",
       "      <td>2.5</td>\n",
       "      <td>8.2</td>\n",
       "      <td>0.6</td>\n",
       "      <td>2.8</td>\n",
       "      <td>0.2</td>\n",
       "      <td>not fire</td>\n",
       "    </tr>\n",
       "    <tr>\n",
       "      <th>125</th>\n",
       "      <td>02</td>\n",
       "      <td>06</td>\n",
       "      <td>2012</td>\n",
       "      <td>30</td>\n",
       "      <td>73</td>\n",
       "      <td>13</td>\n",
       "      <td>4</td>\n",
       "      <td>55.7</td>\n",
       "      <td>2.7</td>\n",
       "      <td>7.8</td>\n",
       "      <td>0.6</td>\n",
       "      <td>2.9</td>\n",
       "      <td>0.2</td>\n",
       "      <td>not fire</td>\n",
       "    </tr>\n",
       "    <tr>\n",
       "      <th>126</th>\n",
       "      <td>03</td>\n",
       "      <td>06</td>\n",
       "      <td>2012</td>\n",
       "      <td>29</td>\n",
       "      <td>80</td>\n",
       "      <td>14</td>\n",
       "      <td>2</td>\n",
       "      <td>48.7</td>\n",
       "      <td>2.2</td>\n",
       "      <td>7.6</td>\n",
       "      <td>0.3</td>\n",
       "      <td>2.6</td>\n",
       "      <td>0.1</td>\n",
       "      <td>not fire</td>\n",
       "    </tr>\n",
       "  </tbody>\n",
       "</table>\n",
       "</div>"
      ],
      "text/plain": [
       "    day month  year Temperature  RH  Ws Rain  FFMC  DMC   DC  ISI  BUI  FWI  \\\n",
       "120  29    09  2012          26  80  16  1.8  47.4  2.9  7.7  0.3    3  0.1   \n",
       "121  30    09  2012          25  78  14  1.4    45  1.9  7.5  0.2  2.4  0.1   \n",
       "124  01    06  2012          32  71  12  0.7  57.1  2.5  8.2  0.6  2.8  0.2   \n",
       "125  02    06  2012          30  73  13    4  55.7  2.7  7.8  0.6  2.9  0.2   \n",
       "126  03    06  2012          29  80  14    2  48.7  2.2  7.6  0.3  2.6  0.1   \n",
       "\n",
       "         Classes  \n",
       "120  not fire     \n",
       "121  not fire     \n",
       "124  not fire     \n",
       "125  not fire     \n",
       "126  not fire     "
      ]
     },
     "execution_count": 5,
     "metadata": {},
     "output_type": "execute_result"
    }
   ],
   "source": [
    "# axis =0 remove rows. axis = 1 removes columns\n",
    "#as can be seen below that rows 122, 123 has been removed from the dataset as they contained name of the \n",
    "#region and repitition of the name of columns\n",
    "alg.drop([122,123], axis = 0, inplace= True)\n",
    "alg[120:125]"
   ]
  },
  {
   "cell_type": "code",
   "execution_count": 6,
   "id": "625e88cf",
   "metadata": {},
   "outputs": [
    {
     "data": {
      "text/plain": [
       "(244, 14)"
      ]
     },
     "execution_count": 6,
     "metadata": {},
     "output_type": "execute_result"
    }
   ],
   "source": [
    "alg.shape"
   ]
  },
  {
   "cell_type": "code",
   "execution_count": 7,
   "id": "9ce0813f",
   "metadata": {
    "scrolled": true
   },
   "outputs": [
    {
     "data": {
      "text/html": [
       "<div>\n",
       "<style scoped>\n",
       "    .dataframe tbody tr th:only-of-type {\n",
       "        vertical-align: middle;\n",
       "    }\n",
       "\n",
       "    .dataframe tbody tr th {\n",
       "        vertical-align: top;\n",
       "    }\n",
       "\n",
       "    .dataframe thead th {\n",
       "        text-align: right;\n",
       "    }\n",
       "</style>\n",
       "<table border=\"1\" class=\"dataframe\">\n",
       "  <thead>\n",
       "    <tr style=\"text-align: right;\">\n",
       "      <th></th>\n",
       "      <th>day</th>\n",
       "      <th>month</th>\n",
       "      <th>year</th>\n",
       "      <th>Temperature</th>\n",
       "      <th>RH</th>\n",
       "      <th>Ws</th>\n",
       "      <th>Rain</th>\n",
       "      <th>FFMC</th>\n",
       "      <th>DMC</th>\n",
       "      <th>DC</th>\n",
       "      <th>ISI</th>\n",
       "      <th>BUI</th>\n",
       "      <th>FWI</th>\n",
       "    </tr>\n",
       "  </thead>\n",
       "  <tbody>\n",
       "    <tr>\n",
       "      <th>0</th>\n",
       "      <td>01</td>\n",
       "      <td>06</td>\n",
       "      <td>2012</td>\n",
       "      <td>29</td>\n",
       "      <td>57</td>\n",
       "      <td>18</td>\n",
       "      <td>0</td>\n",
       "      <td>65.7</td>\n",
       "      <td>3.4</td>\n",
       "      <td>7.6</td>\n",
       "      <td>1.3</td>\n",
       "      <td>3.4</td>\n",
       "      <td>0.5</td>\n",
       "    </tr>\n",
       "    <tr>\n",
       "      <th>1</th>\n",
       "      <td>02</td>\n",
       "      <td>06</td>\n",
       "      <td>2012</td>\n",
       "      <td>29</td>\n",
       "      <td>61</td>\n",
       "      <td>13</td>\n",
       "      <td>1.3</td>\n",
       "      <td>64.4</td>\n",
       "      <td>4.1</td>\n",
       "      <td>7.6</td>\n",
       "      <td>1</td>\n",
       "      <td>3.9</td>\n",
       "      <td>0.4</td>\n",
       "    </tr>\n",
       "    <tr>\n",
       "      <th>2</th>\n",
       "      <td>03</td>\n",
       "      <td>06</td>\n",
       "      <td>2012</td>\n",
       "      <td>26</td>\n",
       "      <td>82</td>\n",
       "      <td>22</td>\n",
       "      <td>13.1</td>\n",
       "      <td>47.1</td>\n",
       "      <td>2.5</td>\n",
       "      <td>7.1</td>\n",
       "      <td>0.3</td>\n",
       "      <td>2.7</td>\n",
       "      <td>0.1</td>\n",
       "    </tr>\n",
       "    <tr>\n",
       "      <th>3</th>\n",
       "      <td>04</td>\n",
       "      <td>06</td>\n",
       "      <td>2012</td>\n",
       "      <td>25</td>\n",
       "      <td>89</td>\n",
       "      <td>13</td>\n",
       "      <td>2.5</td>\n",
       "      <td>28.6</td>\n",
       "      <td>1.3</td>\n",
       "      <td>6.9</td>\n",
       "      <td>0</td>\n",
       "      <td>1.7</td>\n",
       "      <td>0</td>\n",
       "    </tr>\n",
       "    <tr>\n",
       "      <th>4</th>\n",
       "      <td>05</td>\n",
       "      <td>06</td>\n",
       "      <td>2012</td>\n",
       "      <td>27</td>\n",
       "      <td>77</td>\n",
       "      <td>16</td>\n",
       "      <td>0</td>\n",
       "      <td>64.8</td>\n",
       "      <td>3</td>\n",
       "      <td>14.2</td>\n",
       "      <td>1.2</td>\n",
       "      <td>3.9</td>\n",
       "      <td>0.5</td>\n",
       "    </tr>\n",
       "    <tr>\n",
       "      <th>...</th>\n",
       "      <td>...</td>\n",
       "      <td>...</td>\n",
       "      <td>...</td>\n",
       "      <td>...</td>\n",
       "      <td>...</td>\n",
       "      <td>...</td>\n",
       "      <td>...</td>\n",
       "      <td>...</td>\n",
       "      <td>...</td>\n",
       "      <td>...</td>\n",
       "      <td>...</td>\n",
       "      <td>...</td>\n",
       "      <td>...</td>\n",
       "    </tr>\n",
       "    <tr>\n",
       "      <th>241</th>\n",
       "      <td>26</td>\n",
       "      <td>09</td>\n",
       "      <td>2012</td>\n",
       "      <td>30</td>\n",
       "      <td>65</td>\n",
       "      <td>14</td>\n",
       "      <td>0</td>\n",
       "      <td>85.4</td>\n",
       "      <td>16</td>\n",
       "      <td>44.5</td>\n",
       "      <td>4.5</td>\n",
       "      <td>16.9</td>\n",
       "      <td>6.5</td>\n",
       "    </tr>\n",
       "    <tr>\n",
       "      <th>242</th>\n",
       "      <td>27</td>\n",
       "      <td>09</td>\n",
       "      <td>2012</td>\n",
       "      <td>28</td>\n",
       "      <td>87</td>\n",
       "      <td>15</td>\n",
       "      <td>4.4</td>\n",
       "      <td>41.1</td>\n",
       "      <td>6.5</td>\n",
       "      <td>8</td>\n",
       "      <td>0.1</td>\n",
       "      <td>6.2</td>\n",
       "      <td>0</td>\n",
       "    </tr>\n",
       "    <tr>\n",
       "      <th>243</th>\n",
       "      <td>28</td>\n",
       "      <td>09</td>\n",
       "      <td>2012</td>\n",
       "      <td>27</td>\n",
       "      <td>87</td>\n",
       "      <td>29</td>\n",
       "      <td>0.5</td>\n",
       "      <td>45.9</td>\n",
       "      <td>3.5</td>\n",
       "      <td>7.9</td>\n",
       "      <td>0.4</td>\n",
       "      <td>3.4</td>\n",
       "      <td>0.2</td>\n",
       "    </tr>\n",
       "    <tr>\n",
       "      <th>244</th>\n",
       "      <td>29</td>\n",
       "      <td>09</td>\n",
       "      <td>2012</td>\n",
       "      <td>24</td>\n",
       "      <td>54</td>\n",
       "      <td>18</td>\n",
       "      <td>0.1</td>\n",
       "      <td>79.7</td>\n",
       "      <td>4.3</td>\n",
       "      <td>15.2</td>\n",
       "      <td>1.7</td>\n",
       "      <td>5.1</td>\n",
       "      <td>0.7</td>\n",
       "    </tr>\n",
       "    <tr>\n",
       "      <th>245</th>\n",
       "      <td>30</td>\n",
       "      <td>09</td>\n",
       "      <td>2012</td>\n",
       "      <td>24</td>\n",
       "      <td>64</td>\n",
       "      <td>15</td>\n",
       "      <td>0.2</td>\n",
       "      <td>67.3</td>\n",
       "      <td>3.8</td>\n",
       "      <td>16.5</td>\n",
       "      <td>1.2</td>\n",
       "      <td>4.8</td>\n",
       "      <td>0.5</td>\n",
       "    </tr>\n",
       "  </tbody>\n",
       "</table>\n",
       "<p>244 rows × 13 columns</p>\n",
       "</div>"
      ],
      "text/plain": [
       "    day month  year Temperature  RH  Ws  Rain  FFMC  DMC    DC  ISI   BUI  FWI\n",
       "0    01    06  2012          29  57  18     0  65.7  3.4   7.6  1.3   3.4  0.5\n",
       "1    02    06  2012          29  61  13   1.3  64.4  4.1   7.6    1   3.9  0.4\n",
       "2    03    06  2012          26  82  22  13.1  47.1  2.5   7.1  0.3   2.7  0.1\n",
       "3    04    06  2012          25  89  13   2.5  28.6  1.3   6.9    0   1.7    0\n",
       "4    05    06  2012          27  77  16     0  64.8    3  14.2  1.2   3.9  0.5\n",
       "..   ..   ...   ...         ...  ..  ..   ...   ...  ...   ...  ...   ...  ...\n",
       "241  26    09  2012          30  65  14     0  85.4   16  44.5  4.5  16.9  6.5\n",
       "242  27    09  2012          28  87  15   4.4  41.1  6.5     8  0.1   6.2    0\n",
       "243  28    09  2012          27  87  29   0.5  45.9  3.5   7.9  0.4   3.4  0.2\n",
       "244  29    09  2012          24  54  18   0.1  79.7  4.3  15.2  1.7   5.1  0.7\n",
       "245  30    09  2012          24  64  15   0.2  67.3  3.8  16.5  1.2   4.8  0.5\n",
       "\n",
       "[244 rows x 13 columns]"
      ]
     },
     "execution_count": 7,
     "metadata": {},
     "output_type": "execute_result"
    }
   ],
   "source": [
    "#dropped column classes\n",
    "alg.drop(['Classes'], axis = 1,inplace = True)\n",
    "alg"
   ]
  },
  {
   "cell_type": "code",
   "execution_count": 8,
   "id": "91cebb32",
   "metadata": {},
   "outputs": [
    {
     "data": {
      "text/html": [
       "<div>\n",
       "<style scoped>\n",
       "    .dataframe tbody tr th:only-of-type {\n",
       "        vertical-align: middle;\n",
       "    }\n",
       "\n",
       "    .dataframe tbody tr th {\n",
       "        vertical-align: top;\n",
       "    }\n",
       "\n",
       "    .dataframe thead th {\n",
       "        text-align: right;\n",
       "    }\n",
       "</style>\n",
       "<table border=\"1\" class=\"dataframe\">\n",
       "  <thead>\n",
       "    <tr style=\"text-align: right;\">\n",
       "      <th></th>\n",
       "      <th>Temperature</th>\n",
       "      <th>RH</th>\n",
       "      <th>Ws</th>\n",
       "      <th>Rain</th>\n",
       "      <th>FFMC</th>\n",
       "      <th>DMC</th>\n",
       "      <th>DC</th>\n",
       "      <th>ISI</th>\n",
       "      <th>BUI</th>\n",
       "      <th>FWI</th>\n",
       "      <th>Date</th>\n",
       "    </tr>\n",
       "  </thead>\n",
       "  <tbody>\n",
       "    <tr>\n",
       "      <th>0</th>\n",
       "      <td>29</td>\n",
       "      <td>57</td>\n",
       "      <td>18</td>\n",
       "      <td>0</td>\n",
       "      <td>65.7</td>\n",
       "      <td>3.4</td>\n",
       "      <td>7.6</td>\n",
       "      <td>1.3</td>\n",
       "      <td>3.4</td>\n",
       "      <td>0.5</td>\n",
       "      <td>2012-06-01</td>\n",
       "    </tr>\n",
       "    <tr>\n",
       "      <th>1</th>\n",
       "      <td>29</td>\n",
       "      <td>61</td>\n",
       "      <td>13</td>\n",
       "      <td>1.3</td>\n",
       "      <td>64.4</td>\n",
       "      <td>4.1</td>\n",
       "      <td>7.6</td>\n",
       "      <td>1</td>\n",
       "      <td>3.9</td>\n",
       "      <td>0.4</td>\n",
       "      <td>2012-06-02</td>\n",
       "    </tr>\n",
       "    <tr>\n",
       "      <th>2</th>\n",
       "      <td>26</td>\n",
       "      <td>82</td>\n",
       "      <td>22</td>\n",
       "      <td>13.1</td>\n",
       "      <td>47.1</td>\n",
       "      <td>2.5</td>\n",
       "      <td>7.1</td>\n",
       "      <td>0.3</td>\n",
       "      <td>2.7</td>\n",
       "      <td>0.1</td>\n",
       "      <td>2012-06-03</td>\n",
       "    </tr>\n",
       "    <tr>\n",
       "      <th>3</th>\n",
       "      <td>25</td>\n",
       "      <td>89</td>\n",
       "      <td>13</td>\n",
       "      <td>2.5</td>\n",
       "      <td>28.6</td>\n",
       "      <td>1.3</td>\n",
       "      <td>6.9</td>\n",
       "      <td>0</td>\n",
       "      <td>1.7</td>\n",
       "      <td>0</td>\n",
       "      <td>2012-06-04</td>\n",
       "    </tr>\n",
       "    <tr>\n",
       "      <th>4</th>\n",
       "      <td>27</td>\n",
       "      <td>77</td>\n",
       "      <td>16</td>\n",
       "      <td>0</td>\n",
       "      <td>64.8</td>\n",
       "      <td>3</td>\n",
       "      <td>14.2</td>\n",
       "      <td>1.2</td>\n",
       "      <td>3.9</td>\n",
       "      <td>0.5</td>\n",
       "      <td>2012-06-05</td>\n",
       "    </tr>\n",
       "    <tr>\n",
       "      <th>...</th>\n",
       "      <td>...</td>\n",
       "      <td>...</td>\n",
       "      <td>...</td>\n",
       "      <td>...</td>\n",
       "      <td>...</td>\n",
       "      <td>...</td>\n",
       "      <td>...</td>\n",
       "      <td>...</td>\n",
       "      <td>...</td>\n",
       "      <td>...</td>\n",
       "      <td>...</td>\n",
       "    </tr>\n",
       "    <tr>\n",
       "      <th>241</th>\n",
       "      <td>30</td>\n",
       "      <td>65</td>\n",
       "      <td>14</td>\n",
       "      <td>0</td>\n",
       "      <td>85.4</td>\n",
       "      <td>16</td>\n",
       "      <td>44.5</td>\n",
       "      <td>4.5</td>\n",
       "      <td>16.9</td>\n",
       "      <td>6.5</td>\n",
       "      <td>2012-09-26</td>\n",
       "    </tr>\n",
       "    <tr>\n",
       "      <th>242</th>\n",
       "      <td>28</td>\n",
       "      <td>87</td>\n",
       "      <td>15</td>\n",
       "      <td>4.4</td>\n",
       "      <td>41.1</td>\n",
       "      <td>6.5</td>\n",
       "      <td>8</td>\n",
       "      <td>0.1</td>\n",
       "      <td>6.2</td>\n",
       "      <td>0</td>\n",
       "      <td>2012-09-27</td>\n",
       "    </tr>\n",
       "    <tr>\n",
       "      <th>243</th>\n",
       "      <td>27</td>\n",
       "      <td>87</td>\n",
       "      <td>29</td>\n",
       "      <td>0.5</td>\n",
       "      <td>45.9</td>\n",
       "      <td>3.5</td>\n",
       "      <td>7.9</td>\n",
       "      <td>0.4</td>\n",
       "      <td>3.4</td>\n",
       "      <td>0.2</td>\n",
       "      <td>2012-09-28</td>\n",
       "    </tr>\n",
       "    <tr>\n",
       "      <th>244</th>\n",
       "      <td>24</td>\n",
       "      <td>54</td>\n",
       "      <td>18</td>\n",
       "      <td>0.1</td>\n",
       "      <td>79.7</td>\n",
       "      <td>4.3</td>\n",
       "      <td>15.2</td>\n",
       "      <td>1.7</td>\n",
       "      <td>5.1</td>\n",
       "      <td>0.7</td>\n",
       "      <td>2012-09-29</td>\n",
       "    </tr>\n",
       "    <tr>\n",
       "      <th>245</th>\n",
       "      <td>24</td>\n",
       "      <td>64</td>\n",
       "      <td>15</td>\n",
       "      <td>0.2</td>\n",
       "      <td>67.3</td>\n",
       "      <td>3.8</td>\n",
       "      <td>16.5</td>\n",
       "      <td>1.2</td>\n",
       "      <td>4.8</td>\n",
       "      <td>0.5</td>\n",
       "      <td>2012-09-30</td>\n",
       "    </tr>\n",
       "  </tbody>\n",
       "</table>\n",
       "<p>244 rows × 11 columns</p>\n",
       "</div>"
      ],
      "text/plain": [
       "    Temperature  RH  Ws  Rain  FFMC  DMC    DC  ISI   BUI  FWI       Date\n",
       "0            29  57  18     0  65.7  3.4   7.6  1.3   3.4  0.5 2012-06-01\n",
       "1            29  61  13   1.3  64.4  4.1   7.6    1   3.9  0.4 2012-06-02\n",
       "2            26  82  22  13.1  47.1  2.5   7.1  0.3   2.7  0.1 2012-06-03\n",
       "3            25  89  13   2.5  28.6  1.3   6.9    0   1.7    0 2012-06-04\n",
       "4            27  77  16     0  64.8    3  14.2  1.2   3.9  0.5 2012-06-05\n",
       "..          ...  ..  ..   ...   ...  ...   ...  ...   ...  ...        ...\n",
       "241          30  65  14     0  85.4   16  44.5  4.5  16.9  6.5 2012-09-26\n",
       "242          28  87  15   4.4  41.1  6.5     8  0.1   6.2    0 2012-09-27\n",
       "243          27  87  29   0.5  45.9  3.5   7.9  0.4   3.4  0.2 2012-09-28\n",
       "244          24  54  18   0.1  79.7  4.3  15.2  1.7   5.1  0.7 2012-09-29\n",
       "245          24  64  15   0.2  67.3  3.8  16.5  1.2   4.8  0.5 2012-09-30\n",
       "\n",
       "[244 rows x 11 columns]"
      ]
     },
     "execution_count": 8,
     "metadata": {},
     "output_type": "execute_result"
    }
   ],
   "source": [
    "#to extract the date and convert dtype from object to datetime if needed.\n",
    "alg['Date'] = pd.to_datetime(alg[['day','month','year']])\n",
    "alg.drop(['day', 'month', 'year'], axis=1, inplace=True)\n",
    "alg"
   ]
  },
  {
   "cell_type": "code",
   "execution_count": 9,
   "id": "0d02badb",
   "metadata": {},
   "outputs": [
    {
     "data": {
      "text/html": [
       "<div>\n",
       "<style scoped>\n",
       "    .dataframe tbody tr th:only-of-type {\n",
       "        vertical-align: middle;\n",
       "    }\n",
       "\n",
       "    .dataframe tbody tr th {\n",
       "        vertical-align: top;\n",
       "    }\n",
       "\n",
       "    .dataframe thead th {\n",
       "        text-align: right;\n",
       "    }\n",
       "</style>\n",
       "<table border=\"1\" class=\"dataframe\">\n",
       "  <thead>\n",
       "    <tr style=\"text-align: right;\">\n",
       "      <th></th>\n",
       "      <th>Temperature</th>\n",
       "      <th>RH</th>\n",
       "      <th>Ws</th>\n",
       "      <th>Rain</th>\n",
       "      <th>FFMC</th>\n",
       "      <th>DMC</th>\n",
       "      <th>DC</th>\n",
       "      <th>ISI</th>\n",
       "      <th>BUI</th>\n",
       "      <th>FWI</th>\n",
       "      <th>Date</th>\n",
       "      <th>Region</th>\n",
       "    </tr>\n",
       "  </thead>\n",
       "  <tbody>\n",
       "    <tr>\n",
       "      <th>0</th>\n",
       "      <td>29</td>\n",
       "      <td>57</td>\n",
       "      <td>18</td>\n",
       "      <td>0</td>\n",
       "      <td>65.7</td>\n",
       "      <td>3.4</td>\n",
       "      <td>7.6</td>\n",
       "      <td>1.3</td>\n",
       "      <td>3.4</td>\n",
       "      <td>0.5</td>\n",
       "      <td>2012-06-01</td>\n",
       "      <td>Bejaia</td>\n",
       "    </tr>\n",
       "    <tr>\n",
       "      <th>1</th>\n",
       "      <td>29</td>\n",
       "      <td>61</td>\n",
       "      <td>13</td>\n",
       "      <td>1.3</td>\n",
       "      <td>64.4</td>\n",
       "      <td>4.1</td>\n",
       "      <td>7.6</td>\n",
       "      <td>1</td>\n",
       "      <td>3.9</td>\n",
       "      <td>0.4</td>\n",
       "      <td>2012-06-02</td>\n",
       "      <td>Bejaia</td>\n",
       "    </tr>\n",
       "    <tr>\n",
       "      <th>2</th>\n",
       "      <td>26</td>\n",
       "      <td>82</td>\n",
       "      <td>22</td>\n",
       "      <td>13.1</td>\n",
       "      <td>47.1</td>\n",
       "      <td>2.5</td>\n",
       "      <td>7.1</td>\n",
       "      <td>0.3</td>\n",
       "      <td>2.7</td>\n",
       "      <td>0.1</td>\n",
       "      <td>2012-06-03</td>\n",
       "      <td>Bejaia</td>\n",
       "    </tr>\n",
       "    <tr>\n",
       "      <th>3</th>\n",
       "      <td>25</td>\n",
       "      <td>89</td>\n",
       "      <td>13</td>\n",
       "      <td>2.5</td>\n",
       "      <td>28.6</td>\n",
       "      <td>1.3</td>\n",
       "      <td>6.9</td>\n",
       "      <td>0</td>\n",
       "      <td>1.7</td>\n",
       "      <td>0</td>\n",
       "      <td>2012-06-04</td>\n",
       "      <td>Bejaia</td>\n",
       "    </tr>\n",
       "    <tr>\n",
       "      <th>4</th>\n",
       "      <td>27</td>\n",
       "      <td>77</td>\n",
       "      <td>16</td>\n",
       "      <td>0</td>\n",
       "      <td>64.8</td>\n",
       "      <td>3</td>\n",
       "      <td>14.2</td>\n",
       "      <td>1.2</td>\n",
       "      <td>3.9</td>\n",
       "      <td>0.5</td>\n",
       "      <td>2012-06-05</td>\n",
       "      <td>Bejaia</td>\n",
       "    </tr>\n",
       "    <tr>\n",
       "      <th>...</th>\n",
       "      <td>...</td>\n",
       "      <td>...</td>\n",
       "      <td>...</td>\n",
       "      <td>...</td>\n",
       "      <td>...</td>\n",
       "      <td>...</td>\n",
       "      <td>...</td>\n",
       "      <td>...</td>\n",
       "      <td>...</td>\n",
       "      <td>...</td>\n",
       "      <td>...</td>\n",
       "      <td>...</td>\n",
       "    </tr>\n",
       "    <tr>\n",
       "      <th>241</th>\n",
       "      <td>30</td>\n",
       "      <td>65</td>\n",
       "      <td>14</td>\n",
       "      <td>0</td>\n",
       "      <td>85.4</td>\n",
       "      <td>16</td>\n",
       "      <td>44.5</td>\n",
       "      <td>4.5</td>\n",
       "      <td>16.9</td>\n",
       "      <td>6.5</td>\n",
       "      <td>2012-09-26</td>\n",
       "      <td>Sidi-Bel Abbes</td>\n",
       "    </tr>\n",
       "    <tr>\n",
       "      <th>242</th>\n",
       "      <td>28</td>\n",
       "      <td>87</td>\n",
       "      <td>15</td>\n",
       "      <td>4.4</td>\n",
       "      <td>41.1</td>\n",
       "      <td>6.5</td>\n",
       "      <td>8</td>\n",
       "      <td>0.1</td>\n",
       "      <td>6.2</td>\n",
       "      <td>0</td>\n",
       "      <td>2012-09-27</td>\n",
       "      <td>Sidi-Bel Abbes</td>\n",
       "    </tr>\n",
       "    <tr>\n",
       "      <th>243</th>\n",
       "      <td>27</td>\n",
       "      <td>87</td>\n",
       "      <td>29</td>\n",
       "      <td>0.5</td>\n",
       "      <td>45.9</td>\n",
       "      <td>3.5</td>\n",
       "      <td>7.9</td>\n",
       "      <td>0.4</td>\n",
       "      <td>3.4</td>\n",
       "      <td>0.2</td>\n",
       "      <td>2012-09-28</td>\n",
       "      <td>Sidi-Bel Abbes</td>\n",
       "    </tr>\n",
       "    <tr>\n",
       "      <th>244</th>\n",
       "      <td>24</td>\n",
       "      <td>54</td>\n",
       "      <td>18</td>\n",
       "      <td>0.1</td>\n",
       "      <td>79.7</td>\n",
       "      <td>4.3</td>\n",
       "      <td>15.2</td>\n",
       "      <td>1.7</td>\n",
       "      <td>5.1</td>\n",
       "      <td>0.7</td>\n",
       "      <td>2012-09-29</td>\n",
       "      <td>Sidi-Bel Abbes</td>\n",
       "    </tr>\n",
       "    <tr>\n",
       "      <th>245</th>\n",
       "      <td>24</td>\n",
       "      <td>64</td>\n",
       "      <td>15</td>\n",
       "      <td>0.2</td>\n",
       "      <td>67.3</td>\n",
       "      <td>3.8</td>\n",
       "      <td>16.5</td>\n",
       "      <td>1.2</td>\n",
       "      <td>4.8</td>\n",
       "      <td>0.5</td>\n",
       "      <td>2012-09-30</td>\n",
       "      <td>Sidi-Bel Abbes</td>\n",
       "    </tr>\n",
       "  </tbody>\n",
       "</table>\n",
       "<p>244 rows × 12 columns</p>\n",
       "</div>"
      ],
      "text/plain": [
       "    Temperature  RH  Ws  Rain  FFMC  DMC    DC  ISI   BUI  FWI       Date  \\\n",
       "0            29  57  18     0  65.7  3.4   7.6  1.3   3.4  0.5 2012-06-01   \n",
       "1            29  61  13   1.3  64.4  4.1   7.6    1   3.9  0.4 2012-06-02   \n",
       "2            26  82  22  13.1  47.1  2.5   7.1  0.3   2.7  0.1 2012-06-03   \n",
       "3            25  89  13   2.5  28.6  1.3   6.9    0   1.7    0 2012-06-04   \n",
       "4            27  77  16     0  64.8    3  14.2  1.2   3.9  0.5 2012-06-05   \n",
       "..          ...  ..  ..   ...   ...  ...   ...  ...   ...  ...        ...   \n",
       "241          30  65  14     0  85.4   16  44.5  4.5  16.9  6.5 2012-09-26   \n",
       "242          28  87  15   4.4  41.1  6.5     8  0.1   6.2    0 2012-09-27   \n",
       "243          27  87  29   0.5  45.9  3.5   7.9  0.4   3.4  0.2 2012-09-28   \n",
       "244          24  54  18   0.1  79.7  4.3  15.2  1.7   5.1  0.7 2012-09-29   \n",
       "245          24  64  15   0.2  67.3  3.8  16.5  1.2   4.8  0.5 2012-09-30   \n",
       "\n",
       "             Region  \n",
       "0            Bejaia  \n",
       "1            Bejaia  \n",
       "2            Bejaia  \n",
       "3            Bejaia  \n",
       "4            Bejaia  \n",
       "..              ...  \n",
       "241  Sidi-Bel Abbes  \n",
       "242  Sidi-Bel Abbes  \n",
       "243  Sidi-Bel Abbes  \n",
       "244  Sidi-Bel Abbes  \n",
       "245  Sidi-Bel Abbes  \n",
       "\n",
       "[244 rows x 12 columns]"
      ]
     },
     "execution_count": 9,
     "metadata": {},
     "output_type": "execute_result"
    }
   ],
   "source": [
    "# add Regions\n",
    "# for loc :first part is for rows, second part for columns\n",
    "# \":\" indicates from 0 to the specified no, \",\" indicates specific nos with 3 AND 6 -> alg.iloc[0:7,[3,6]]\n",
    "alg.loc[0:122,'Region'] ='Bejaia'\n",
    "alg.loc[122:,'Region']= 'Sidi-Bel Abbes'\n",
    "alg"
   ]
  },
  {
   "cell_type": "code",
   "execution_count": 10,
   "id": "e6962598",
   "metadata": {},
   "outputs": [
    {
     "name": "stdout",
     "output_type": "stream",
     "text": [
      "<class 'pandas.core.frame.DataFrame'>\n",
      "Int64Index: 244 entries, 0 to 245\n",
      "Data columns (total 12 columns):\n",
      " #   Column       Non-Null Count  Dtype         \n",
      "---  ------       --------------  -----         \n",
      " 0   Temperature  244 non-null    object        \n",
      " 1   RH           244 non-null    object        \n",
      " 2   Ws           244 non-null    object        \n",
      " 3   Rain         244 non-null    object        \n",
      " 4   FFMC         244 non-null    object        \n",
      " 5   DMC          244 non-null    object        \n",
      " 6   DC           244 non-null    object        \n",
      " 7   ISI          244 non-null    object        \n",
      " 8   BUI          244 non-null    object        \n",
      " 9   FWI          244 non-null    object        \n",
      " 10  Date         244 non-null    datetime64[ns]\n",
      " 11  Region       244 non-null    object        \n",
      "dtypes: datetime64[ns](1), object(11)\n",
      "memory usage: 32.9+ KB\n"
     ]
    }
   ],
   "source": [
    "# One can see that a lot of numerical columns have been identified as object so we need to correct it \n",
    "#by converting object datatypes into respective numerical categories.\n",
    "alg.info()"
   ]
  },
  {
   "cell_type": "code",
   "execution_count": 11,
   "id": "0c276d16",
   "metadata": {},
   "outputs": [],
   "source": [
    "#since we see a invalid no 14.6 9 in the column we have to correct it unde the attribute DC\n",
    "alg['DC'] = alg['DC'].str.split(' ').str[0]"
   ]
  },
  {
   "cell_type": "code",
   "execution_count": 12,
   "id": "6e8a1099",
   "metadata": {},
   "outputs": [],
   "source": [
    "#since we see an invalid \"fire\" named string in FWI column we have to replace it with a number \n",
    "alg['FWI'] = alg['FWI'].str.replace('fire','0')"
   ]
  },
  {
   "cell_type": "code",
   "execution_count": 13,
   "id": "13201068",
   "metadata": {},
   "outputs": [],
   "source": [
    "#Finallly we create a dictionary, to input values as the correct numerical variables.\n",
    "alg = alg.astype({'Temperature':float, 'RH':int,'Ws':int, 'Rain':float, 'FFMC':float,'DMC':float,'DC':float, 'ISI':float, 'BUI':float, 'FWI':float})"
   ]
  },
  {
   "cell_type": "code",
   "execution_count": 14,
   "id": "23e4d788",
   "metadata": {
    "scrolled": true
   },
   "outputs": [
    {
     "name": "stdout",
     "output_type": "stream",
     "text": [
      "<class 'pandas.core.frame.DataFrame'>\n",
      "Int64Index: 244 entries, 0 to 245\n",
      "Data columns (total 12 columns):\n",
      " #   Column       Non-Null Count  Dtype         \n",
      "---  ------       --------------  -----         \n",
      " 0   Temperature  244 non-null    float64       \n",
      " 1   RH           244 non-null    int64         \n",
      " 2   Ws           244 non-null    int64         \n",
      " 3   Rain         244 non-null    float64       \n",
      " 4   FFMC         244 non-null    float64       \n",
      " 5   DMC          244 non-null    float64       \n",
      " 6   DC           244 non-null    float64       \n",
      " 7   ISI          244 non-null    float64       \n",
      " 8   BUI          244 non-null    float64       \n",
      " 9   FWI          244 non-null    float64       \n",
      " 10  Date         244 non-null    datetime64[ns]\n",
      " 11  Region       244 non-null    object        \n",
      "dtypes: datetime64[ns](1), float64(8), int64(2), object(1)\n",
      "memory usage: 32.9+ KB\n"
     ]
    }
   ],
   "source": [
    "# as we can see the incorrect data type of columns have been changed to the correct datatype.\n",
    "alg.info()"
   ]
  },
  {
   "cell_type": "code",
   "execution_count": 15,
   "id": "a19918db",
   "metadata": {},
   "outputs": [
    {
     "data": {
      "text/html": [
       "<div>\n",
       "<style scoped>\n",
       "    .dataframe tbody tr th:only-of-type {\n",
       "        vertical-align: middle;\n",
       "    }\n",
       "\n",
       "    .dataframe tbody tr th {\n",
       "        vertical-align: top;\n",
       "    }\n",
       "\n",
       "    .dataframe thead th {\n",
       "        text-align: right;\n",
       "    }\n",
       "</style>\n",
       "<table border=\"1\" class=\"dataframe\">\n",
       "  <thead>\n",
       "    <tr style=\"text-align: right;\">\n",
       "      <th></th>\n",
       "      <th>count</th>\n",
       "      <th>mean</th>\n",
       "      <th>std</th>\n",
       "      <th>min</th>\n",
       "      <th>25%</th>\n",
       "      <th>50%</th>\n",
       "      <th>75%</th>\n",
       "      <th>max</th>\n",
       "    </tr>\n",
       "  </thead>\n",
       "  <tbody>\n",
       "    <tr>\n",
       "      <th>Temperature</th>\n",
       "      <td>244.0</td>\n",
       "      <td>32.172131</td>\n",
       "      <td>3.633843</td>\n",
       "      <td>22.0</td>\n",
       "      <td>30.000</td>\n",
       "      <td>32.00</td>\n",
       "      <td>35.000</td>\n",
       "      <td>42.0</td>\n",
       "    </tr>\n",
       "    <tr>\n",
       "      <th>RH</th>\n",
       "      <td>244.0</td>\n",
       "      <td>61.938525</td>\n",
       "      <td>14.884200</td>\n",
       "      <td>21.0</td>\n",
       "      <td>52.000</td>\n",
       "      <td>63.00</td>\n",
       "      <td>73.250</td>\n",
       "      <td>90.0</td>\n",
       "    </tr>\n",
       "    <tr>\n",
       "      <th>Ws</th>\n",
       "      <td>244.0</td>\n",
       "      <td>15.504098</td>\n",
       "      <td>2.810178</td>\n",
       "      <td>6.0</td>\n",
       "      <td>14.000</td>\n",
       "      <td>15.00</td>\n",
       "      <td>17.000</td>\n",
       "      <td>29.0</td>\n",
       "    </tr>\n",
       "    <tr>\n",
       "      <th>Rain</th>\n",
       "      <td>244.0</td>\n",
       "      <td>0.760656</td>\n",
       "      <td>1.999406</td>\n",
       "      <td>0.0</td>\n",
       "      <td>0.000</td>\n",
       "      <td>0.00</td>\n",
       "      <td>0.500</td>\n",
       "      <td>16.8</td>\n",
       "    </tr>\n",
       "    <tr>\n",
       "      <th>FFMC</th>\n",
       "      <td>244.0</td>\n",
       "      <td>77.887705</td>\n",
       "      <td>14.337571</td>\n",
       "      <td>28.6</td>\n",
       "      <td>72.075</td>\n",
       "      <td>83.50</td>\n",
       "      <td>88.300</td>\n",
       "      <td>96.0</td>\n",
       "    </tr>\n",
       "    <tr>\n",
       "      <th>DMC</th>\n",
       "      <td>244.0</td>\n",
       "      <td>14.673361</td>\n",
       "      <td>12.368039</td>\n",
       "      <td>0.7</td>\n",
       "      <td>5.800</td>\n",
       "      <td>11.30</td>\n",
       "      <td>20.750</td>\n",
       "      <td>65.9</td>\n",
       "    </tr>\n",
       "    <tr>\n",
       "      <th>DC</th>\n",
       "      <td>244.0</td>\n",
       "      <td>49.288115</td>\n",
       "      <td>47.619662</td>\n",
       "      <td>6.9</td>\n",
       "      <td>13.275</td>\n",
       "      <td>33.10</td>\n",
       "      <td>68.150</td>\n",
       "      <td>220.4</td>\n",
       "    </tr>\n",
       "    <tr>\n",
       "      <th>ISI</th>\n",
       "      <td>244.0</td>\n",
       "      <td>4.774180</td>\n",
       "      <td>4.175318</td>\n",
       "      <td>0.0</td>\n",
       "      <td>1.400</td>\n",
       "      <td>3.50</td>\n",
       "      <td>7.300</td>\n",
       "      <td>19.0</td>\n",
       "    </tr>\n",
       "    <tr>\n",
       "      <th>BUI</th>\n",
       "      <td>244.0</td>\n",
       "      <td>16.664754</td>\n",
       "      <td>14.204824</td>\n",
       "      <td>1.1</td>\n",
       "      <td>6.000</td>\n",
       "      <td>12.25</td>\n",
       "      <td>22.525</td>\n",
       "      <td>68.0</td>\n",
       "    </tr>\n",
       "    <tr>\n",
       "      <th>FWI</th>\n",
       "      <td>244.0</td>\n",
       "      <td>7.006557</td>\n",
       "      <td>7.438889</td>\n",
       "      <td>0.0</td>\n",
       "      <td>0.700</td>\n",
       "      <td>4.20</td>\n",
       "      <td>11.375</td>\n",
       "      <td>31.1</td>\n",
       "    </tr>\n",
       "  </tbody>\n",
       "</table>\n",
       "</div>"
      ],
      "text/plain": [
       "             count       mean        std   min     25%    50%     75%    max\n",
       "Temperature  244.0  32.172131   3.633843  22.0  30.000  32.00  35.000   42.0\n",
       "RH           244.0  61.938525  14.884200  21.0  52.000  63.00  73.250   90.0\n",
       "Ws           244.0  15.504098   2.810178   6.0  14.000  15.00  17.000   29.0\n",
       "Rain         244.0   0.760656   1.999406   0.0   0.000   0.00   0.500   16.8\n",
       "FFMC         244.0  77.887705  14.337571  28.6  72.075  83.50  88.300   96.0\n",
       "DMC          244.0  14.673361  12.368039   0.7   5.800  11.30  20.750   65.9\n",
       "DC           244.0  49.288115  47.619662   6.9  13.275  33.10  68.150  220.4\n",
       "ISI          244.0   4.774180   4.175318   0.0   1.400   3.50   7.300   19.0\n",
       "BUI          244.0  16.664754  14.204824   1.1   6.000  12.25  22.525   68.0\n",
       "FWI          244.0   7.006557   7.438889   0.0   0.700   4.20  11.375   31.1"
      ]
     },
     "execution_count": 15,
     "metadata": {},
     "output_type": "execute_result"
    }
   ],
   "source": [
    "#We get the statisitical analysis of our model.\n",
    "alg.describe().T"
   ]
  },
  {
   "cell_type": "code",
   "execution_count": 16,
   "id": "d0ed01c2",
   "metadata": {},
   "outputs": [
    {
     "data": {
      "text/plain": [
       "Temperature    0\n",
       "RH             0\n",
       "Ws             0\n",
       "Rain           0\n",
       "FFMC           0\n",
       "DMC            0\n",
       "DC             0\n",
       "ISI            0\n",
       "BUI            0\n",
       "FWI            0\n",
       "Date           0\n",
       "Region         0\n",
       "dtype: int64"
      ]
     },
     "execution_count": 16,
     "metadata": {},
     "output_type": "execute_result"
    }
   ],
   "source": [
    "#We have no missing values\n",
    "alg.isnull().sum()"
   ]
  },
  {
   "cell_type": "markdown",
   "id": "aeea3463",
   "metadata": {},
   "source": [
    "# EXPLORATORY DATA ANALYSIS"
   ]
  },
  {
   "cell_type": "code",
   "execution_count": 17,
   "id": "da525558",
   "metadata": {},
   "outputs": [],
   "source": [
    "import warnings\n",
    "warnings.filterwarnings('ignore')"
   ]
  },
  {
   "cell_type": "markdown",
   "id": "9620f590",
   "metadata": {},
   "source": [
    "# UNI-VARIATE ANALYSIS"
   ]
  },
  {
   "cell_type": "code",
   "execution_count": 18,
   "id": "bed0f3ae",
   "metadata": {
    "scrolled": true
   },
   "outputs": [
    {
     "data": {
      "image/png": "[encoded data removed]",
      "text/plain": [
       "<Figure size 1080x1440 with 10 Axes>"
      ]
     },
     "metadata": {},
     "output_type": "display_data"
    }
   ],
   "source": [
    "plt.figure(figsize=(15,20), facecolor='white')\n",
    "plt.suptitle('Univariate Analysis of Numerical Features',fontsize=20,fontweight='bold')\n",
    "plotnumber = 1\n",
    "\n",
    "for column in alg:\n",
    "    if plotnumber<=10 : # 11 columns not considering date column\n",
    "        ax = plt.subplot(4,3,plotnumber)  # 4 rows, 3 columns\n",
    "        sns.distplot(alg[column])\n",
    "        plt.xlabel(column,fontsize=15)\n",
    "    plotnumber+=1\n",
    "\n",
    "plt.show()"
   ]
  },
  {
   "cell_type": "markdown",
   "id": "ad83864b",
   "metadata": {},
   "source": [
    "As can be seen Temperature which is our dependent variable shows normal distribution.\n",
    "Rain, DMC, DC, ISI, BUI,FWI show right skewed distribution.\n",
    "FFMC shows left skewed distribution.\n",
    "Ws is slightly Right Skewed.\n",
    "RH is slightly Left skewed."
   ]
  },
  {
   "cell_type": "markdown",
   "id": "e50cef9d",
   "metadata": {},
   "source": [
    "# Detecting Outliers via Box-Plot"
   ]
  },
  {
   "cell_type": "code",
   "execution_count": 19,
   "id": "f590a8f5",
   "metadata": {},
   "outputs": [
    {
     "data": {
      "text/plain": [
       "<AxesSubplot:xlabel='Rain'>"
      ]
     },
     "execution_count": 19,
     "metadata": {},
     "output_type": "execute_result"
    },
    {
     "data": {
      "image/png": "[encoded data removed]",
      "text/plain": [
       "<Figure size 432x288 with 1 Axes>"
      ]
     },
     "metadata": {
      "needs_background": "light"
     },
     "output_type": "display_data"
    }
   ],
   "source": [
    "# Rain as an independent variable showcases a huge number of outliers on the right side.\n",
    "sns.boxplot(x='Rain',data= alg,showmeans=True)"
   ]
  },
  {
   "cell_type": "code",
   "execution_count": 20,
   "id": "2b5516e4",
   "metadata": {},
   "outputs": [
    {
     "data": {
      "text/plain": [
       "<AxesSubplot:xlabel='FFMC'>"
      ]
     },
     "execution_count": 20,
     "metadata": {},
     "output_type": "execute_result"
    },
    {
     "data": {
      "image/png": "[encoded data removed]",
      "text/plain": [
       "<Figure size 432x288 with 1 Axes>"
      ]
     },
     "metadata": {
      "needs_background": "light"
     },
     "output_type": "display_data"
    }
   ],
   "source": [
    "#FFMC is a numerical rating of the moisture content of litter and cured fine fuels. \n",
    "#It shows presence of outliers on the left side. \n",
    "sns.boxplot(x='FFMC',data= alg,showmeans=True)"
   ]
  },
  {
   "cell_type": "code",
   "execution_count": 21,
   "id": "03cd1596",
   "metadata": {
    "scrolled": true
   },
   "outputs": [
    {
     "data": {
      "text/plain": [
       "<AxesSubplot:xlabel='BUI'>"
      ]
     },
     "execution_count": 21,
     "metadata": {},
     "output_type": "execute_result"
    },
    {
     "data": {
      "image/png": "[encoded data removed]",
      "text/plain": [
       "<Figure size 432x288 with 1 Axes>"
      ]
     },
     "metadata": {
      "needs_background": "light"
     },
     "output_type": "display_data"
    }
   ],
   "source": [
    "#The Build Up Index (BUI) which is a numeric rating of the total amount of fuel available for combustion.\n",
    "#It shows presence of ouliers on the right hand side.\n",
    "sns.boxplot(x='BUI',data= alg,showmeans=True)"
   ]
  },
  {
   "cell_type": "markdown",
   "id": "cbee0e90",
   "metadata": {},
   "source": [
    "# Bi-Variate Analysis"
   ]
  },
  {
   "cell_type": "code",
   "execution_count": 22,
   "id": "72786676",
   "metadata": {},
   "outputs": [
    {
     "data": {
      "text/plain": [
       "<seaborn.axisgrid.FacetGrid at 0x126b62a90>"
      ]
     },
     "execution_count": 22,
     "metadata": {},
     "output_type": "execute_result"
    },
    {
     "data": {
      "image/png": "[encoded data removed]",
      "text/plain": [
       "<Figure size 360x360 with 1 Axes>"
      ]
     },
     "metadata": {
      "needs_background": "light"
     },
     "output_type": "display_data"
    }
   ],
   "source": [
    "# We see an inversely proportional relationship.\n",
    "#With increase in rainfall, the temperature decreases.\n",
    "sns.lmplot(data=alg, x='Rain', y='Temperature') "
   ]
  },
  {
   "cell_type": "code",
   "execution_count": 23,
   "id": "ee4ed816",
   "metadata": {
    "scrolled": true
   },
   "outputs": [
    {
     "data": {
      "text/plain": [
       "<AxesSubplot:xlabel='RH', ylabel='Temperature'>"
      ]
     },
     "execution_count": 23,
     "metadata": {},
     "output_type": "execute_result"
    },
    {
     "data": {
      "image/png": "[encoded data removed]",
      "text/plain": [
       "<Figure size 432x288 with 1 Axes>"
      ]
     },
     "metadata": {
      "needs_background": "light"
     },
     "output_type": "display_data"
    }
   ],
   "source": [
    "#The temperature will drop with an increase in relative humidity.\n",
    "sns.lineplot(x='RH', y='Temperature', data=alg, color='red')"
   ]
  },
  {
   "cell_type": "code",
   "execution_count": 24,
   "id": "3f47821b",
   "metadata": {},
   "outputs": [
    {
     "data": {
      "text/html": [
       "<div>\n",
       "<style scoped>\n",
       "    .dataframe tbody tr th:only-of-type {\n",
       "        vertical-align: middle;\n",
       "    }\n",
       "\n",
       "    .dataframe tbody tr th {\n",
       "        vertical-align: top;\n",
       "    }\n",
       "\n",
       "    .dataframe thead th {\n",
       "        text-align: right;\n",
       "    }\n",
       "</style>\n",
       "<table border=\"1\" class=\"dataframe\">\n",
       "  <thead>\n",
       "    <tr style=\"text-align: right;\">\n",
       "      <th></th>\n",
       "      <th>Temperature</th>\n",
       "      <th>RH</th>\n",
       "      <th>Ws</th>\n",
       "      <th>Rain</th>\n",
       "      <th>FFMC</th>\n",
       "      <th>DMC</th>\n",
       "      <th>DC</th>\n",
       "      <th>ISI</th>\n",
       "      <th>BUI</th>\n",
       "      <th>FWI</th>\n",
       "      <th>Date</th>\n",
       "      <th>Region</th>\n",
       "      <th>Month</th>\n",
       "    </tr>\n",
       "  </thead>\n",
       "  <tbody>\n",
       "    <tr>\n",
       "      <th>0</th>\n",
       "      <td>29.0</td>\n",
       "      <td>57</td>\n",
       "      <td>18</td>\n",
       "      <td>0.0</td>\n",
       "      <td>65.7</td>\n",
       "      <td>3.4</td>\n",
       "      <td>7.6</td>\n",
       "      <td>1.3</td>\n",
       "      <td>3.4</td>\n",
       "      <td>0.5</td>\n",
       "      <td>2012-06-01</td>\n",
       "      <td>Bejaia</td>\n",
       "      <td>June</td>\n",
       "    </tr>\n",
       "    <tr>\n",
       "      <th>1</th>\n",
       "      <td>29.0</td>\n",
       "      <td>61</td>\n",
       "      <td>13</td>\n",
       "      <td>1.3</td>\n",
       "      <td>64.4</td>\n",
       "      <td>4.1</td>\n",
       "      <td>7.6</td>\n",
       "      <td>1.0</td>\n",
       "      <td>3.9</td>\n",
       "      <td>0.4</td>\n",
       "      <td>2012-06-02</td>\n",
       "      <td>Bejaia</td>\n",
       "      <td>June</td>\n",
       "    </tr>\n",
       "    <tr>\n",
       "      <th>2</th>\n",
       "      <td>26.0</td>\n",
       "      <td>82</td>\n",
       "      <td>22</td>\n",
       "      <td>13.1</td>\n",
       "      <td>47.1</td>\n",
       "      <td>2.5</td>\n",
       "      <td>7.1</td>\n",
       "      <td>0.3</td>\n",
       "      <td>2.7</td>\n",
       "      <td>0.1</td>\n",
       "      <td>2012-06-03</td>\n",
       "      <td>Bejaia</td>\n",
       "      <td>June</td>\n",
       "    </tr>\n",
       "    <tr>\n",
       "      <th>3</th>\n",
       "      <td>25.0</td>\n",
       "      <td>89</td>\n",
       "      <td>13</td>\n",
       "      <td>2.5</td>\n",
       "      <td>28.6</td>\n",
       "      <td>1.3</td>\n",
       "      <td>6.9</td>\n",
       "      <td>0.0</td>\n",
       "      <td>1.7</td>\n",
       "      <td>0.0</td>\n",
       "      <td>2012-06-04</td>\n",
       "      <td>Bejaia</td>\n",
       "      <td>June</td>\n",
       "    </tr>\n",
       "    <tr>\n",
       "      <th>4</th>\n",
       "      <td>27.0</td>\n",
       "      <td>77</td>\n",
       "      <td>16</td>\n",
       "      <td>0.0</td>\n",
       "      <td>64.8</td>\n",
       "      <td>3.0</td>\n",
       "      <td>14.2</td>\n",
       "      <td>1.2</td>\n",
       "      <td>3.9</td>\n",
       "      <td>0.5</td>\n",
       "      <td>2012-06-05</td>\n",
       "      <td>Bejaia</td>\n",
       "      <td>June</td>\n",
       "    </tr>\n",
       "    <tr>\n",
       "      <th>...</th>\n",
       "      <td>...</td>\n",
       "      <td>...</td>\n",
       "      <td>...</td>\n",
       "      <td>...</td>\n",
       "      <td>...</td>\n",
       "      <td>...</td>\n",
       "      <td>...</td>\n",
       "      <td>...</td>\n",
       "      <td>...</td>\n",
       "      <td>...</td>\n",
       "      <td>...</td>\n",
       "      <td>...</td>\n",
       "      <td>...</td>\n",
       "    </tr>\n",
       "    <tr>\n",
       "      <th>241</th>\n",
       "      <td>30.0</td>\n",
       "      <td>65</td>\n",
       "      <td>14</td>\n",
       "      <td>0.0</td>\n",
       "      <td>85.4</td>\n",
       "      <td>16.0</td>\n",
       "      <td>44.5</td>\n",
       "      <td>4.5</td>\n",
       "      <td>16.9</td>\n",
       "      <td>6.5</td>\n",
       "      <td>2012-09-26</td>\n",
       "      <td>Sidi-Bel Abbes</td>\n",
       "      <td>September</td>\n",
       "    </tr>\n",
       "    <tr>\n",
       "      <th>242</th>\n",
       "      <td>28.0</td>\n",
       "      <td>87</td>\n",
       "      <td>15</td>\n",
       "      <td>4.4</td>\n",
       "      <td>41.1</td>\n",
       "      <td>6.5</td>\n",
       "      <td>8.0</td>\n",
       "      <td>0.1</td>\n",
       "      <td>6.2</td>\n",
       "      <td>0.0</td>\n",
       "      <td>2012-09-27</td>\n",
       "      <td>Sidi-Bel Abbes</td>\n",
       "      <td>September</td>\n",
       "    </tr>\n",
       "    <tr>\n",
       "      <th>243</th>\n",
       "      <td>27.0</td>\n",
       "      <td>87</td>\n",
       "      <td>29</td>\n",
       "      <td>0.5</td>\n",
       "      <td>45.9</td>\n",
       "      <td>3.5</td>\n",
       "      <td>7.9</td>\n",
       "      <td>0.4</td>\n",
       "      <td>3.4</td>\n",
       "      <td>0.2</td>\n",
       "      <td>2012-09-28</td>\n",
       "      <td>Sidi-Bel Abbes</td>\n",
       "      <td>September</td>\n",
       "    </tr>\n",
       "    <tr>\n",
       "      <th>244</th>\n",
       "      <td>24.0</td>\n",
       "      <td>54</td>\n",
       "      <td>18</td>\n",
       "      <td>0.1</td>\n",
       "      <td>79.7</td>\n",
       "      <td>4.3</td>\n",
       "      <td>15.2</td>\n",
       "      <td>1.7</td>\n",
       "      <td>5.1</td>\n",
       "      <td>0.7</td>\n",
       "      <td>2012-09-29</td>\n",
       "      <td>Sidi-Bel Abbes</td>\n",
       "      <td>September</td>\n",
       "    </tr>\n",
       "    <tr>\n",
       "      <th>245</th>\n",
       "      <td>24.0</td>\n",
       "      <td>64</td>\n",
       "      <td>15</td>\n",
       "      <td>0.2</td>\n",
       "      <td>67.3</td>\n",
       "      <td>3.8</td>\n",
       "      <td>16.5</td>\n",
       "      <td>1.2</td>\n",
       "      <td>4.8</td>\n",
       "      <td>0.5</td>\n",
       "      <td>2012-09-30</td>\n",
       "      <td>Sidi-Bel Abbes</td>\n",
       "      <td>September</td>\n",
       "    </tr>\n",
       "  </tbody>\n",
       "</table>\n",
       "<p>244 rows × 13 columns</p>\n",
       "</div>"
      ],
      "text/plain": [
       "     Temperature  RH  Ws  Rain  FFMC   DMC    DC  ISI   BUI  FWI       Date  \\\n",
       "0           29.0  57  18   0.0  65.7   3.4   7.6  1.3   3.4  0.5 2012-06-01   \n",
       "1           29.0  61  13   1.3  64.4   4.1   7.6  1.0   3.9  0.4 2012-06-02   \n",
       "2           26.0  82  22  13.1  47.1   2.5   7.1  0.3   2.7  0.1 2012-06-03   \n",
       "3           25.0  89  13   2.5  28.6   1.3   6.9  0.0   1.7  0.0 2012-06-04   \n",
       "4           27.0  77  16   0.0  64.8   3.0  14.2  1.2   3.9  0.5 2012-06-05   \n",
       "..           ...  ..  ..   ...   ...   ...   ...  ...   ...  ...        ...   \n",
       "241         30.0  65  14   0.0  85.4  16.0  44.5  4.5  16.9  6.5 2012-09-26   \n",
       "242         28.0  87  15   4.4  41.1   6.5   8.0  0.1   6.2  0.0 2012-09-27   \n",
       "243         27.0  87  29   0.5  45.9   3.5   7.9  0.4   3.4  0.2 2012-09-28   \n",
       "244         24.0  54  18   0.1  79.7   4.3  15.2  1.7   5.1  0.7 2012-09-29   \n",
       "245         24.0  64  15   0.2  67.3   3.8  16.5  1.2   4.8  0.5 2012-09-30   \n",
       "\n",
       "             Region      Month  \n",
       "0            Bejaia       June  \n",
       "1            Bejaia       June  \n",
       "2            Bejaia       June  \n",
       "3            Bejaia       June  \n",
       "4            Bejaia       June  \n",
       "..              ...        ...  \n",
       "241  Sidi-Bel Abbes  September  \n",
       "242  Sidi-Bel Abbes  September  \n",
       "243  Sidi-Bel Abbes  September  \n",
       "244  Sidi-Bel Abbes  September  \n",
       "245  Sidi-Bel Abbes  September  \n",
       "\n",
       "[244 rows x 13 columns]"
      ]
     },
     "execution_count": 24,
     "metadata": {},
     "output_type": "execute_result"
    }
   ],
   "source": [
    "#To see which month temperature was the highest we extract the month from the date column.\n",
    "alg['Month']=alg['Date'].dt.month_name()\n",
    "alg"
   ]
  },
  {
   "cell_type": "code",
   "execution_count": 94,
   "id": "54618a9d",
   "metadata": {
    "scrolled": true
   },
   "outputs": [
    {
     "data": {
      "image/png": "[encoded data removed]",
      "text/plain": [
       "<Figure size 1080x576 with 1 Axes>"
      ]
     },
     "metadata": {
      "needs_background": "light"
     },
     "output_type": "display_data"
    }
   ],
   "source": [
    "#As can be seen the temperature was the highest in the month of August.\n",
    "plt.figure(figsize=(15,8))\n",
    "sns.barplot(x='Month',y='Temperature',data=alg,palette='Spectral_r',saturation=0.9)\n",
    "plt.tight_layout()\n",
    "plt.grid(True)\n",
    "plt.show()"
   ]
  },
  {
   "cell_type": "code",
   "execution_count": 26,
   "id": "16384c26",
   "metadata": {},
   "outputs": [
    {
     "data": {
      "image/png": "[encoded data removed]",
      "text/plain": [
       "<Figure size 1080x576 with 1 Axes>"
      ]
     },
     "metadata": {
      "needs_background": "light"
     },
     "output_type": "display_data"
    }
   ],
   "source": [
    "#The region of Sidi-Bel Abbes saw higher rise in tmeperature as compared to Bejaia.\n",
    "plt.figure(figsize=(15,8))\n",
    "sns.barplot(x='Region',y='Temperature',data=alg,palette='Spectral_r',saturation=0.9)\n",
    "plt.tight_layout()\n",
    "plt.grid(True)\n",
    "plt.show()"
   ]
  },
  {
   "cell_type": "code",
   "execution_count": 27,
   "id": "5f3505e4",
   "metadata": {},
   "outputs": [
    {
     "data": {
      "text/plain": [
       "<seaborn.axisgrid.FacetGrid at 0x126fdb730>"
      ]
     },
     "execution_count": 27,
     "metadata": {},
     "output_type": "execute_result"
    },
    {
     "data": {
      "text/plain": [
       "<Figure size 1008x576 with 0 Axes>"
      ]
     },
     "metadata": {},
     "output_type": "display_data"
    },
    {
     "data": {
      "image/png": "[encoded data removed]",
      "text/plain": [
       "<Figure size 360x360 with 1 Axes>"
      ]
     },
     "metadata": {
      "needs_background": "light"
     },
     "output_type": "display_data"
    }
   ],
   "source": [
    "#With an increase in Wind speed,the air gets coolers and hence temperature decreases.\n",
    "plt.figure(figsize=(14,8))\n",
    "sns.lmplot(data=alg, x='Ws', y='Temperature')"
   ]
  },
  {
   "cell_type": "code",
   "execution_count": 28,
   "id": "c3e8a10b",
   "metadata": {},
   "outputs": [
    {
     "data": {
      "text/plain": [
       "<seaborn.axisgrid.FacetGrid at 0x127801b20>"
      ]
     },
     "execution_count": 28,
     "metadata": {},
     "output_type": "execute_result"
    },
    {
     "data": {
      "text/plain": [
       "<Figure size 1008x576 with 0 Axes>"
      ]
     },
     "metadata": {},
     "output_type": "display_data"
    },
    {
     "data": {
      "image/png": "[encoded data removed]",
      "text/plain": [
       "<Figure size 360x360 with 1 Axes>"
      ]
     },
     "metadata": {
      "needs_background": "light"
     },
     "output_type": "display_data"
    }
   ],
   "source": [
    "#A directly proportional relationship is exhibited as drier periods lead to higher temperatures.\n",
    "plt.figure(figsize=(14,8))\n",
    "sns.lmplot(data=alg, x='DC', y='Temperature')"
   ]
  },
  {
   "cell_type": "code",
   "execution_count": 29,
   "id": "b9bed520",
   "metadata": {
    "scrolled": false
   },
   "outputs": [
    {
     "data": {
      "text/plain": [
       "Text(0, 0.5, 'Temperature')"
      ]
     },
     "execution_count": 29,
     "metadata": {},
     "output_type": "execute_result"
    },
    {
     "data": {
      "image/png": "[encoded data removed]",
      "text/plain": [
       "<Figure size 432x288 with 1 Axes>"
      ]
     },
     "metadata": {
      "needs_background": "light"
     },
     "output_type": "display_data"
    }
   ],
   "source": [
    "#Fine fuel moisture code is very sensitive to temperature and they exhibit a directly proportional relation between them.\n",
    "plt.scatter(alg['FFMC'],alg['Temperature'],c='pink')\n",
    "plt.xlabel(\"FFMC\")\n",
    "plt.ylabel(\"Temperature\")"
   ]
  },
  {
   "cell_type": "markdown",
   "id": "7c229ade",
   "metadata": {},
   "source": [
    "DMC, BUI, ISI AND FWI show positive correlation to Temperature."
   ]
  },
  {
   "cell_type": "code",
   "execution_count": 30,
   "id": "68c01635",
   "metadata": {},
   "outputs": [
    {
     "data": {
      "text/plain": [
       "<AxesSubplot:xlabel='DMC', ylabel='Temperature'>"
      ]
     },
     "execution_count": 30,
     "metadata": {},
     "output_type": "execute_result"
    },
    {
     "data": {
      "image/png": "[encoded data removed]",
      "text/plain": [
       "<Figure size 432x288 with 1 Axes>"
      ]
     },
     "metadata": {
      "needs_background": "light"
     },
     "output_type": "display_data"
    }
   ],
   "source": [
    "sns.regplot(x='DMC' ,y='Temperature' , data = alg,color ='yellow')"
   ]
  },
  {
   "cell_type": "code",
   "execution_count": 31,
   "id": "5f10a383",
   "metadata": {},
   "outputs": [
    {
     "data": {
      "text/plain": [
       "<AxesSubplot:xlabel='BUI', ylabel='Temperature'>"
      ]
     },
     "execution_count": 31,
     "metadata": {},
     "output_type": "execute_result"
    },
    {
     "data": {
      "image/png": "[encoded data removed]",
      "text/plain": [
       "<Figure size 432x288 with 1 Axes>"
      ]
     },
     "metadata": {
      "needs_background": "light"
     },
     "output_type": "display_data"
    }
   ],
   "source": [
    "sns.regplot(x='BUI' ,y='Temperature' , data = alg,color ='green')"
   ]
  },
  {
   "cell_type": "code",
   "execution_count": 32,
   "id": "c93e0ef0",
   "metadata": {},
   "outputs": [
    {
     "data": {
      "text/plain": [
       "<AxesSubplot:xlabel='ISI', ylabel='Temperature'>"
      ]
     },
     "execution_count": 32,
     "metadata": {},
     "output_type": "execute_result"
    },
    {
     "data": {
      "image/png": "[encoded data removed]",
      "text/plain": [
       "<Figure size 432x288 with 1 Axes>"
      ]
     },
     "metadata": {
      "needs_background": "light"
     },
     "output_type": "display_data"
    }
   ],
   "source": [
    "sns.regplot(x='ISI' ,y='Temperature' , data = alg,color ='orange')"
   ]
  },
  {
   "cell_type": "code",
   "execution_count": 33,
   "id": "4e71419c",
   "metadata": {
    "scrolled": true
   },
   "outputs": [
    {
     "data": {
      "text/plain": [
       "<AxesSubplot:xlabel='FWI', ylabel='Temperature'>"
      ]
     },
     "execution_count": 33,
     "metadata": {},
     "output_type": "execute_result"
    },
    {
     "data": {
      "image/png": "[encoded data removed]",
      "text/plain": [
       "<Figure size 432x288 with 1 Axes>"
      ]
     },
     "metadata": {
      "needs_background": "light"
     },
     "output_type": "display_data"
    }
   ],
   "source": [
    "sns.regplot(x='FWI' ,y='Temperature' , data = alg,color ='black')"
   ]
  },
  {
   "cell_type": "markdown",
   "id": "7f479bc6",
   "metadata": {},
   "source": [
    "# Co-rrelation Heatmap"
   ]
  },
  {
   "cell_type": "code",
   "execution_count": 34,
   "id": "6e164806",
   "metadata": {},
   "outputs": [
    {
     "data": {
      "text/plain": [
       "<AxesSubplot:>"
      ]
     },
     "execution_count": 34,
     "metadata": {},
     "output_type": "execute_result"
    },
    {
     "data": {
      "image/png": "[encoded data removed]",
      "text/plain": [
       "<Figure size 1080x720 with 2 Axes>"
      ]
     },
     "metadata": {
      "needs_background": "light"
     },
     "output_type": "display_data"
    }
   ],
   "source": [
    "plt.figure(figsize=(15,10))\n",
    "sns.heatmap(alg.corr(),annot=True)"
   ]
  },
  {
   "cell_type": "markdown",
   "id": "2ac66c16",
   "metadata": {},
   "source": [
    "Wind Speed(WS), Rain, Relative Humidity(RS) are negatively correlated to Temperature.\n",
    "\n",
    "FFMC,DMC, BUI, ISI AND FWI show positive correlation to Temperature.\n",
    "\n",
    "DMC & DC show very high correlation to BUI around 98 per cent & 94 per cent so in this case any one of the two can be taken as a feature for recognition of temperature.\n"
   ]
  },
  {
   "cell_type": "markdown",
   "id": "009ec2bd",
   "metadata": {},
   "source": [
    "# Train Test Split"
   ]
  },
  {
   "cell_type": "code",
   "execution_count": 35,
   "id": "170aa157",
   "metadata": {},
   "outputs": [],
   "source": [
    "from sklearn.model_selection import train_test_split"
   ]
  },
  {
   "cell_type": "code",
   "execution_count": 36,
   "id": "4a686ba7",
   "metadata": {},
   "outputs": [
    {
     "data": {
      "text/html": [
       "<div>\n",
       "<style scoped>\n",
       "    .dataframe tbody tr th:only-of-type {\n",
       "        vertical-align: middle;\n",
       "    }\n",
       "\n",
       "    .dataframe tbody tr th {\n",
       "        vertical-align: top;\n",
       "    }\n",
       "\n",
       "    .dataframe thead th {\n",
       "        text-align: right;\n",
       "    }\n",
       "</style>\n",
       "<table border=\"1\" class=\"dataframe\">\n",
       "  <thead>\n",
       "    <tr style=\"text-align: right;\">\n",
       "      <th></th>\n",
       "      <th>RH</th>\n",
       "      <th>Ws</th>\n",
       "      <th>Rain</th>\n",
       "      <th>FFMC</th>\n",
       "      <th>DC</th>\n",
       "      <th>ISI</th>\n",
       "      <th>BUI</th>\n",
       "      <th>FWI</th>\n",
       "      <th>Region</th>\n",
       "    </tr>\n",
       "  </thead>\n",
       "  <tbody>\n",
       "    <tr>\n",
       "      <th>0</th>\n",
       "      <td>57</td>\n",
       "      <td>18</td>\n",
       "      <td>0.0</td>\n",
       "      <td>65.7</td>\n",
       "      <td>7.6</td>\n",
       "      <td>1.3</td>\n",
       "      <td>3.4</td>\n",
       "      <td>0.5</td>\n",
       "      <td>Bejaia</td>\n",
       "    </tr>\n",
       "    <tr>\n",
       "      <th>1</th>\n",
       "      <td>61</td>\n",
       "      <td>13</td>\n",
       "      <td>1.3</td>\n",
       "      <td>64.4</td>\n",
       "      <td>7.6</td>\n",
       "      <td>1.0</td>\n",
       "      <td>3.9</td>\n",
       "      <td>0.4</td>\n",
       "      <td>Bejaia</td>\n",
       "    </tr>\n",
       "    <tr>\n",
       "      <th>2</th>\n",
       "      <td>82</td>\n",
       "      <td>22</td>\n",
       "      <td>13.1</td>\n",
       "      <td>47.1</td>\n",
       "      <td>7.1</td>\n",
       "      <td>0.3</td>\n",
       "      <td>2.7</td>\n",
       "      <td>0.1</td>\n",
       "      <td>Bejaia</td>\n",
       "    </tr>\n",
       "    <tr>\n",
       "      <th>3</th>\n",
       "      <td>89</td>\n",
       "      <td>13</td>\n",
       "      <td>2.5</td>\n",
       "      <td>28.6</td>\n",
       "      <td>6.9</td>\n",
       "      <td>0.0</td>\n",
       "      <td>1.7</td>\n",
       "      <td>0.0</td>\n",
       "      <td>Bejaia</td>\n",
       "    </tr>\n",
       "    <tr>\n",
       "      <th>4</th>\n",
       "      <td>77</td>\n",
       "      <td>16</td>\n",
       "      <td>0.0</td>\n",
       "      <td>64.8</td>\n",
       "      <td>14.2</td>\n",
       "      <td>1.2</td>\n",
       "      <td>3.9</td>\n",
       "      <td>0.5</td>\n",
       "      <td>Bejaia</td>\n",
       "    </tr>\n",
       "    <tr>\n",
       "      <th>...</th>\n",
       "      <td>...</td>\n",
       "      <td>...</td>\n",
       "      <td>...</td>\n",
       "      <td>...</td>\n",
       "      <td>...</td>\n",
       "      <td>...</td>\n",
       "      <td>...</td>\n",
       "      <td>...</td>\n",
       "      <td>...</td>\n",
       "    </tr>\n",
       "    <tr>\n",
       "      <th>241</th>\n",
       "      <td>65</td>\n",
       "      <td>14</td>\n",
       "      <td>0.0</td>\n",
       "      <td>85.4</td>\n",
       "      <td>44.5</td>\n",
       "      <td>4.5</td>\n",
       "      <td>16.9</td>\n",
       "      <td>6.5</td>\n",
       "      <td>Sidi-Bel Abbes</td>\n",
       "    </tr>\n",
       "    <tr>\n",
       "      <th>242</th>\n",
       "      <td>87</td>\n",
       "      <td>15</td>\n",
       "      <td>4.4</td>\n",
       "      <td>41.1</td>\n",
       "      <td>8.0</td>\n",
       "      <td>0.1</td>\n",
       "      <td>6.2</td>\n",
       "      <td>0.0</td>\n",
       "      <td>Sidi-Bel Abbes</td>\n",
       "    </tr>\n",
       "    <tr>\n",
       "      <th>243</th>\n",
       "      <td>87</td>\n",
       "      <td>29</td>\n",
       "      <td>0.5</td>\n",
       "      <td>45.9</td>\n",
       "      <td>7.9</td>\n",
       "      <td>0.4</td>\n",
       "      <td>3.4</td>\n",
       "      <td>0.2</td>\n",
       "      <td>Sidi-Bel Abbes</td>\n",
       "    </tr>\n",
       "    <tr>\n",
       "      <th>244</th>\n",
       "      <td>54</td>\n",
       "      <td>18</td>\n",
       "      <td>0.1</td>\n",
       "      <td>79.7</td>\n",
       "      <td>15.2</td>\n",
       "      <td>1.7</td>\n",
       "      <td>5.1</td>\n",
       "      <td>0.7</td>\n",
       "      <td>Sidi-Bel Abbes</td>\n",
       "    </tr>\n",
       "    <tr>\n",
       "      <th>245</th>\n",
       "      <td>64</td>\n",
       "      <td>15</td>\n",
       "      <td>0.2</td>\n",
       "      <td>67.3</td>\n",
       "      <td>16.5</td>\n",
       "      <td>1.2</td>\n",
       "      <td>4.8</td>\n",
       "      <td>0.5</td>\n",
       "      <td>Sidi-Bel Abbes</td>\n",
       "    </tr>\n",
       "  </tbody>\n",
       "</table>\n",
       "<p>244 rows × 9 columns</p>\n",
       "</div>"
      ],
      "text/plain": [
       "     RH  Ws  Rain  FFMC    DC  ISI   BUI  FWI          Region\n",
       "0    57  18   0.0  65.7   7.6  1.3   3.4  0.5          Bejaia\n",
       "1    61  13   1.3  64.4   7.6  1.0   3.9  0.4          Bejaia\n",
       "2    82  22  13.1  47.1   7.1  0.3   2.7  0.1          Bejaia\n",
       "3    89  13   2.5  28.6   6.9  0.0   1.7  0.0          Bejaia\n",
       "4    77  16   0.0  64.8  14.2  1.2   3.9  0.5          Bejaia\n",
       "..   ..  ..   ...   ...   ...  ...   ...  ...             ...\n",
       "241  65  14   0.0  85.4  44.5  4.5  16.9  6.5  Sidi-Bel Abbes\n",
       "242  87  15   4.4  41.1   8.0  0.1   6.2  0.0  Sidi-Bel Abbes\n",
       "243  87  29   0.5  45.9   7.9  0.4   3.4  0.2  Sidi-Bel Abbes\n",
       "244  54  18   0.1  79.7  15.2  1.7   5.1  0.7  Sidi-Bel Abbes\n",
       "245  64  15   0.2  67.3  16.5  1.2   4.8  0.5  Sidi-Bel Abbes\n",
       "\n",
       "[244 rows x 9 columns]"
      ]
     },
     "execution_count": 36,
     "metadata": {},
     "output_type": "execute_result"
    }
   ],
   "source": [
    "# Keeping the target variable in y, while the predictor variables are in x.\n",
    "x = alg.drop(['Temperature','Month','Date','DMC'],axis=1)\n",
    "y = alg['Temperature']\n",
    "x"
   ]
  },
  {
   "cell_type": "code",
   "execution_count": 37,
   "id": "5ff9ddff",
   "metadata": {},
   "outputs": [],
   "source": [
    "#we use test values after the model is trained, it shud not be exposed to the values of trained features\n",
    "x_train, x_test, y_train, y_test = train_test_split(x, y, test_size=0.33, random_state=42)"
   ]
  },
  {
   "cell_type": "code",
   "execution_count": 38,
   "id": "ca1db722",
   "metadata": {},
   "outputs": [
    {
     "data": {
      "text/plain": [
       "(163, 9)"
      ]
     },
     "execution_count": 38,
     "metadata": {},
     "output_type": "execute_result"
    }
   ],
   "source": [
    "x_train.shape"
   ]
  },
  {
   "cell_type": "code",
   "execution_count": 39,
   "id": "536a2c69",
   "metadata": {},
   "outputs": [
    {
     "data": {
      "text/plain": [
       "(163,)"
      ]
     },
     "execution_count": 39,
     "metadata": {},
     "output_type": "execute_result"
    }
   ],
   "source": [
    "y_train.shape"
   ]
  },
  {
   "cell_type": "code",
   "execution_count": 40,
   "id": "ae555730",
   "metadata": {},
   "outputs": [
    {
     "data": {
      "text/plain": [
       "(81, 9)"
      ]
     },
     "execution_count": 40,
     "metadata": {},
     "output_type": "execute_result"
    }
   ],
   "source": [
    "x_test.shape"
   ]
  },
  {
   "cell_type": "markdown",
   "id": "f557789e",
   "metadata": {},
   "source": [
    "# Encoding"
   ]
  },
  {
   "cell_type": "code",
   "execution_count": 41,
   "id": "83ed57fe",
   "metadata": {},
   "outputs": [
    {
     "data": {
      "text/html": [
       "<div>\n",
       "<style scoped>\n",
       "    .dataframe tbody tr th:only-of-type {\n",
       "        vertical-align: middle;\n",
       "    }\n",
       "\n",
       "    .dataframe tbody tr th {\n",
       "        vertical-align: top;\n",
       "    }\n",
       "\n",
       "    .dataframe thead th {\n",
       "        text-align: right;\n",
       "    }\n",
       "</style>\n",
       "<table border=\"1\" class=\"dataframe\">\n",
       "  <thead>\n",
       "    <tr style=\"text-align: right;\">\n",
       "      <th></th>\n",
       "      <th>RH</th>\n",
       "      <th>Ws</th>\n",
       "      <th>Rain</th>\n",
       "      <th>FFMC</th>\n",
       "      <th>DC</th>\n",
       "      <th>ISI</th>\n",
       "      <th>BUI</th>\n",
       "      <th>FWI</th>\n",
       "      <th>Region</th>\n",
       "    </tr>\n",
       "  </thead>\n",
       "  <tbody>\n",
       "    <tr>\n",
       "      <th>114</th>\n",
       "      <td>54</td>\n",
       "      <td>11</td>\n",
       "      <td>0.5</td>\n",
       "      <td>73.7</td>\n",
       "      <td>30.4</td>\n",
       "      <td>1.2</td>\n",
       "      <td>9.6</td>\n",
       "      <td>0.7</td>\n",
       "      <td>0</td>\n",
       "    </tr>\n",
       "    <tr>\n",
       "      <th>65</th>\n",
       "      <td>65</td>\n",
       "      <td>13</td>\n",
       "      <td>0.0</td>\n",
       "      <td>86.8</td>\n",
       "      <td>29.7</td>\n",
       "      <td>5.2</td>\n",
       "      <td>11.5</td>\n",
       "      <td>6.1</td>\n",
       "      <td>0</td>\n",
       "    </tr>\n",
       "    <tr>\n",
       "      <th>134</th>\n",
       "      <td>42</td>\n",
       "      <td>21</td>\n",
       "      <td>0.0</td>\n",
       "      <td>90.6</td>\n",
       "      <td>30.5</td>\n",
       "      <td>13.4</td>\n",
       "      <td>18.0</td>\n",
       "      <td>16.7</td>\n",
       "      <td>1</td>\n",
       "    </tr>\n",
       "    <tr>\n",
       "      <th>209</th>\n",
       "      <td>40</td>\n",
       "      <td>18</td>\n",
       "      <td>0.0</td>\n",
       "      <td>92.1</td>\n",
       "      <td>157.5</td>\n",
       "      <td>14.3</td>\n",
       "      <td>59.5</td>\n",
       "      <td>31.1</td>\n",
       "      <td>1</td>\n",
       "    </tr>\n",
       "    <tr>\n",
       "      <th>164</th>\n",
       "      <td>56</td>\n",
       "      <td>15</td>\n",
       "      <td>2.9</td>\n",
       "      <td>74.8</td>\n",
       "      <td>9.5</td>\n",
       "      <td>1.6</td>\n",
       "      <td>6.8</td>\n",
       "      <td>0.8</td>\n",
       "      <td>1</td>\n",
       "    </tr>\n",
       "  </tbody>\n",
       "</table>\n",
       "</div>"
      ],
      "text/plain": [
       "     RH  Ws  Rain  FFMC     DC   ISI   BUI   FWI  Region\n",
       "114  54  11   0.5  73.7   30.4   1.2   9.6   0.7       0\n",
       "65   65  13   0.0  86.8   29.7   5.2  11.5   6.1       0\n",
       "134  42  21   0.0  90.6   30.5  13.4  18.0  16.7       1\n",
       "209  40  18   0.0  92.1  157.5  14.3  59.5  31.1       1\n",
       "164  56  15   2.9  74.8    9.5   1.6   6.8   0.8       1"
      ]
     },
     "execution_count": 41,
     "metadata": {},
     "output_type": "execute_result"
    }
   ],
   "source": [
    "#encoding the regions with numbers 0 & 1 for my train dataset.\n",
    "x_train['Region'] = x_train['Region'].map({'Bejaia':0, 'Sidi-Bel Abbes':1})\n",
    "x_train.head()"
   ]
  },
  {
   "cell_type": "code",
   "execution_count": 42,
   "id": "753fab9e",
   "metadata": {},
   "outputs": [
    {
     "data": {
      "text/html": [
       "<div>\n",
       "<style scoped>\n",
       "    .dataframe tbody tr th:only-of-type {\n",
       "        vertical-align: middle;\n",
       "    }\n",
       "\n",
       "    .dataframe tbody tr th {\n",
       "        vertical-align: top;\n",
       "    }\n",
       "\n",
       "    .dataframe thead th {\n",
       "        text-align: right;\n",
       "    }\n",
       "</style>\n",
       "<table border=\"1\" class=\"dataframe\">\n",
       "  <thead>\n",
       "    <tr style=\"text-align: right;\">\n",
       "      <th></th>\n",
       "      <th>RH</th>\n",
       "      <th>Ws</th>\n",
       "      <th>Rain</th>\n",
       "      <th>FFMC</th>\n",
       "      <th>DC</th>\n",
       "      <th>ISI</th>\n",
       "      <th>BUI</th>\n",
       "      <th>FWI</th>\n",
       "      <th>Region</th>\n",
       "    </tr>\n",
       "  </thead>\n",
       "  <tbody>\n",
       "    <tr>\n",
       "      <th>24</th>\n",
       "      <td>64</td>\n",
       "      <td>15</td>\n",
       "      <td>0.0</td>\n",
       "      <td>86.7</td>\n",
       "      <td>63.8</td>\n",
       "      <td>5.7</td>\n",
       "      <td>18.3</td>\n",
       "      <td>8.4</td>\n",
       "      <td>0</td>\n",
       "    </tr>\n",
       "    <tr>\n",
       "      <th>6</th>\n",
       "      <td>54</td>\n",
       "      <td>13</td>\n",
       "      <td>0.0</td>\n",
       "      <td>88.2</td>\n",
       "      <td>30.5</td>\n",
       "      <td>6.4</td>\n",
       "      <td>10.9</td>\n",
       "      <td>7.2</td>\n",
       "      <td>0</td>\n",
       "    </tr>\n",
       "    <tr>\n",
       "      <th>155</th>\n",
       "      <td>48</td>\n",
       "      <td>16</td>\n",
       "      <td>0.0</td>\n",
       "      <td>87.6</td>\n",
       "      <td>17.8</td>\n",
       "      <td>6.8</td>\n",
       "      <td>7.8</td>\n",
       "      <td>6.4</td>\n",
       "      <td>1</td>\n",
       "    </tr>\n",
       "    <tr>\n",
       "      <th>213</th>\n",
       "      <td>53</td>\n",
       "      <td>17</td>\n",
       "      <td>0.5</td>\n",
       "      <td>80.2</td>\n",
       "      <td>149.2</td>\n",
       "      <td>2.7</td>\n",
       "      <td>30.6</td>\n",
       "      <td>5.9</td>\n",
       "      <td>1</td>\n",
       "    </tr>\n",
       "    <tr>\n",
       "      <th>200</th>\n",
       "      <td>41</td>\n",
       "      <td>10</td>\n",
       "      <td>0.1</td>\n",
       "      <td>92.0</td>\n",
       "      <td>65.1</td>\n",
       "      <td>9.5</td>\n",
       "      <td>24.2</td>\n",
       "      <td>14.8</td>\n",
       "      <td>1</td>\n",
       "    </tr>\n",
       "  </tbody>\n",
       "</table>\n",
       "</div>"
      ],
      "text/plain": [
       "     RH  Ws  Rain  FFMC     DC  ISI   BUI   FWI  Region\n",
       "24   64  15   0.0  86.7   63.8  5.7  18.3   8.4       0\n",
       "6    54  13   0.0  88.2   30.5  6.4  10.9   7.2       0\n",
       "155  48  16   0.0  87.6   17.8  6.8   7.8   6.4       1\n",
       "213  53  17   0.5  80.2  149.2  2.7  30.6   5.9       1\n",
       "200  41  10   0.1  92.0   65.1  9.5  24.2  14.8       1"
      ]
     },
     "execution_count": 42,
     "metadata": {},
     "output_type": "execute_result"
    }
   ],
   "source": [
    "#encoding the regions with numbers 0 & 1 for my test dataset.\n",
    "x_test['Region'] = x_test['Region'].map({'Bejaia':0, 'Sidi-Bel Abbes':1})\n",
    "x_test.head()"
   ]
  },
  {
   "cell_type": "code",
   "execution_count": 43,
   "id": "5c21ceea",
   "metadata": {},
   "outputs": [
    {
     "data": {
      "text/html": [
       "<div>\n",
       "<style scoped>\n",
       "    .dataframe tbody tr th:only-of-type {\n",
       "        vertical-align: middle;\n",
       "    }\n",
       "\n",
       "    .dataframe tbody tr th {\n",
       "        vertical-align: top;\n",
       "    }\n",
       "\n",
       "    .dataframe thead th {\n",
       "        text-align: right;\n",
       "    }\n",
       "</style>\n",
       "<table border=\"1\" class=\"dataframe\">\n",
       "  <thead>\n",
       "    <tr style=\"text-align: right;\">\n",
       "      <th></th>\n",
       "      <th>RH</th>\n",
       "      <th>Ws</th>\n",
       "      <th>Rain</th>\n",
       "      <th>FFMC</th>\n",
       "      <th>DC</th>\n",
       "      <th>ISI</th>\n",
       "      <th>BUI</th>\n",
       "      <th>FWI</th>\n",
       "      <th>Region</th>\n",
       "    </tr>\n",
       "  </thead>\n",
       "  <tbody>\n",
       "    <tr>\n",
       "      <th>114</th>\n",
       "      <td>54</td>\n",
       "      <td>11</td>\n",
       "      <td>0.5</td>\n",
       "      <td>73.7</td>\n",
       "      <td>30.4</td>\n",
       "      <td>1.2</td>\n",
       "      <td>9.6</td>\n",
       "      <td>0.7</td>\n",
       "      <td>0</td>\n",
       "    </tr>\n",
       "    <tr>\n",
       "      <th>65</th>\n",
       "      <td>65</td>\n",
       "      <td>13</td>\n",
       "      <td>0.0</td>\n",
       "      <td>86.8</td>\n",
       "      <td>29.7</td>\n",
       "      <td>5.2</td>\n",
       "      <td>11.5</td>\n",
       "      <td>6.1</td>\n",
       "      <td>0</td>\n",
       "    </tr>\n",
       "    <tr>\n",
       "      <th>134</th>\n",
       "      <td>42</td>\n",
       "      <td>21</td>\n",
       "      <td>0.0</td>\n",
       "      <td>90.6</td>\n",
       "      <td>30.5</td>\n",
       "      <td>13.4</td>\n",
       "      <td>18.0</td>\n",
       "      <td>16.7</td>\n",
       "      <td>1</td>\n",
       "    </tr>\n",
       "    <tr>\n",
       "      <th>209</th>\n",
       "      <td>40</td>\n",
       "      <td>18</td>\n",
       "      <td>0.0</td>\n",
       "      <td>92.1</td>\n",
       "      <td>157.5</td>\n",
       "      <td>14.3</td>\n",
       "      <td>59.5</td>\n",
       "      <td>31.1</td>\n",
       "      <td>1</td>\n",
       "    </tr>\n",
       "    <tr>\n",
       "      <th>164</th>\n",
       "      <td>56</td>\n",
       "      <td>15</td>\n",
       "      <td>2.9</td>\n",
       "      <td>74.8</td>\n",
       "      <td>9.5</td>\n",
       "      <td>1.6</td>\n",
       "      <td>6.8</td>\n",
       "      <td>0.8</td>\n",
       "      <td>1</td>\n",
       "    </tr>\n",
       "    <tr>\n",
       "      <th>...</th>\n",
       "      <td>...</td>\n",
       "      <td>...</td>\n",
       "      <td>...</td>\n",
       "      <td>...</td>\n",
       "      <td>...</td>\n",
       "      <td>...</td>\n",
       "      <td>...</td>\n",
       "      <td>...</td>\n",
       "      <td>...</td>\n",
       "    </tr>\n",
       "    <tr>\n",
       "      <th>106</th>\n",
       "      <td>82</td>\n",
       "      <td>15</td>\n",
       "      <td>0.4</td>\n",
       "      <td>44.9</td>\n",
       "      <td>7.3</td>\n",
       "      <td>0.2</td>\n",
       "      <td>1.4</td>\n",
       "      <td>0.0</td>\n",
       "      <td>0</td>\n",
       "    </tr>\n",
       "    <tr>\n",
       "      <th>14</th>\n",
       "      <td>80</td>\n",
       "      <td>17</td>\n",
       "      <td>3.1</td>\n",
       "      <td>49.4</td>\n",
       "      <td>7.4</td>\n",
       "      <td>0.4</td>\n",
       "      <td>3.0</td>\n",
       "      <td>0.1</td>\n",
       "      <td>0</td>\n",
       "    </tr>\n",
       "    <tr>\n",
       "      <th>92</th>\n",
       "      <td>76</td>\n",
       "      <td>17</td>\n",
       "      <td>7.2</td>\n",
       "      <td>46.0</td>\n",
       "      <td>7.5</td>\n",
       "      <td>0.2</td>\n",
       "      <td>1.8</td>\n",
       "      <td>0.1</td>\n",
       "      <td>0</td>\n",
       "    </tr>\n",
       "    <tr>\n",
       "      <th>181</th>\n",
       "      <td>57</td>\n",
       "      <td>16</td>\n",
       "      <td>0.0</td>\n",
       "      <td>87.5</td>\n",
       "      <td>37.6</td>\n",
       "      <td>6.7</td>\n",
       "      <td>15.7</td>\n",
       "      <td>9.0</td>\n",
       "      <td>1</td>\n",
       "    </tr>\n",
       "    <tr>\n",
       "      <th>102</th>\n",
       "      <td>77</td>\n",
       "      <td>21</td>\n",
       "      <td>1.8</td>\n",
       "      <td>58.5</td>\n",
       "      <td>8.4</td>\n",
       "      <td>1.1</td>\n",
       "      <td>2.4</td>\n",
       "      <td>0.3</td>\n",
       "      <td>0</td>\n",
       "    </tr>\n",
       "  </tbody>\n",
       "</table>\n",
       "<p>163 rows × 9 columns</p>\n",
       "</div>"
      ],
      "text/plain": [
       "     RH  Ws  Rain  FFMC     DC   ISI   BUI   FWI  Region\n",
       "114  54  11   0.5  73.7   30.4   1.2   9.6   0.7       0\n",
       "65   65  13   0.0  86.8   29.7   5.2  11.5   6.1       0\n",
       "134  42  21   0.0  90.6   30.5  13.4  18.0  16.7       1\n",
       "209  40  18   0.0  92.1  157.5  14.3  59.5  31.1       1\n",
       "164  56  15   2.9  74.8    9.5   1.6   6.8   0.8       1\n",
       "..   ..  ..   ...   ...    ...   ...   ...   ...     ...\n",
       "106  82  15   0.4  44.9    7.3   0.2   1.4   0.0       0\n",
       "14   80  17   3.1  49.4    7.4   0.4   3.0   0.1       0\n",
       "92   76  17   7.2  46.0    7.5   0.2   1.8   0.1       0\n",
       "181  57  16   0.0  87.5   37.6   6.7  15.7   9.0       1\n",
       "102  77  21   1.8  58.5    8.4   1.1   2.4   0.3       0\n",
       "\n",
       "[163 rows x 9 columns]"
      ]
     },
     "execution_count": 43,
     "metadata": {},
     "output_type": "execute_result"
    }
   ],
   "source": [
    "x_train"
   ]
  },
  {
   "cell_type": "markdown",
   "id": "0e1da949",
   "metadata": {},
   "source": [
    "# Scaling"
   ]
  },
  {
   "cell_type": "code",
   "execution_count": 44,
   "id": "770d2b9f",
   "metadata": {},
   "outputs": [
    {
     "data": {
      "text/plain": [
       "StandardScaler()"
      ]
     },
     "execution_count": 44,
     "metadata": {},
     "output_type": "execute_result"
    }
   ],
   "source": [
    "#STANDARDISE or feature scaling MY DATA only on independent variables\n",
    "from sklearn.preprocessing import StandardScaler\n",
    "scaler= StandardScaler()\n",
    "scaler"
   ]
  },
  {
   "cell_type": "code",
   "execution_count": 45,
   "id": "0da4c37b",
   "metadata": {},
   "outputs": [
    {
     "data": {
      "text/plain": [
       "array([[-0.60257784, -1.68484146, -0.17054229, ..., -0.47763563,\n",
       "        -0.8196431 , -0.99388373],\n",
       "       [ 0.14460201, -0.93856657, -0.39436188, ..., -0.3471914 ,\n",
       "        -0.08219052, -0.99388373],\n",
       "       [-1.41768313,  2.04653297, -0.39436188, ...,  0.09906517,\n",
       "         1.36540157,  1.0061539 ],\n",
       "       ...,\n",
       "       [ 0.89178186,  0.5539832 ,  2.82864022, ..., -1.01314351,\n",
       "        -0.90158227, -0.99388373],\n",
       "       [-0.39880152,  0.18084575, -0.39436188, ..., -0.058841  ,\n",
       "         0.31384882,  1.0061539 ],\n",
       "       [ 0.9597073 ,  2.04653297,  0.41138865, ..., -0.9719506 ,\n",
       "        -0.87426921, -0.99388373]])"
      ]
     },
     "execution_count": 45,
     "metadata": {},
     "output_type": "execute_result"
    }
   ],
   "source": [
    "#train independent variables\n",
    "x_train = scaler.fit_transform(x_train)\n",
    "x_train   "
   ]
  },
  {
   "cell_type": "code",
   "execution_count": 46,
   "id": "f4dbae47",
   "metadata": {},
   "outputs": [
    {
     "data": {
      "text/plain": [
       "array([[ 7.66765714e-02, -1.92291688e-01, -3.94361879e-01,\n",
       "         6.76854493e-01,  3.01184828e-01,  2.81509163e-01,\n",
       "         1.19661624e-01,  2.31909648e-01, -9.93883735e-01],\n",
       "       [-6.02577838e-01, -9.38566574e-01, -3.94361879e-01,\n",
       "         7.79312965e-01, -3.74297004e-01,  4.49765818e-01,\n",
       "        -3.88384315e-01,  6.80312985e-02, -9.93883735e-01],\n",
       "       [-1.01013048e+00,  1.80845755e-01, -3.94361879e-01,\n",
       "         7.38329576e-01, -6.31913198e-01,  5.45912478e-01,\n",
       "        -6.01214370e-01, -4.12209346e-02,  1.00615390e+00],\n",
       "       [-6.70503279e-01,  5.53983197e-01, -1.70542289e-01,\n",
       "         2.32867782e-01,  2.03350160e+00, -4.39590788e-01,\n",
       "         9.64116361e-01, -1.09503580e-01,  1.00615390e+00],\n",
       "       [-1.48560857e+00, -2.05797890e+00, -3.49597961e-01,\n",
       "         1.03887443e+00,  3.27554990e-01,  1.19490243e+00,\n",
       "         5.24725278e-01,  1.10592751e+00,  1.00615390e+00],\n",
       "       [ 7.66765714e-02, -2.43111635e+00,  1.42805137e-01,\n",
       "        -2.04288364e-01, -6.70454203e-01, -8.24177428e-01,\n",
       "        -3.54056886e-01, -8.19643095e-01,  1.00615390e+00],\n",
       "       [-1.62145945e+00, -1.92291688e-01, -3.04834043e-01,\n",
       "         8.54449178e-01, -2.74901779e-01,  8.82425788e-01,\n",
       "        -5.19755172e-02,  5.46009818e-01,  1.00615390e+00],\n",
       "       [ 1.16348363e+00, -5.65429131e-01,  5.00916482e-01,\n",
       "        -1.91876013e+00, -8.38817542e-01, -1.01647075e+00,\n",
       "        -9.58219625e-01, -9.01582270e-01,  1.00615390e+00],\n",
       "       [ 1.09555819e+00, -1.31170402e+00, -3.94361879e-01,\n",
       "        -2.45271753e-01, -5.37981164e-02, -7.76104098e-01,\n",
       "        -2.71671058e-01, -7.92330037e-01, -9.93883735e-01],\n",
       "       [ 6.88005540e-01, -1.31170402e+00,  4.11388646e-01,\n",
       "        -1.15373687e+00, -8.12447381e-01, -9.20324088e-01,\n",
       "        -9.51354139e-01, -8.74269212e-01, -9.93883735e-01],\n",
       "       [ 8.91781863e-01,  2.04653297e+00, -3.94361879e-01,\n",
       "        -2.86255141e-01, -4.75720702e-01, -9.20324088e-01,\n",
       "        -5.66886942e-01, -8.60612683e-01, -9.93883735e-01],\n",
       "       [-3.30876074e-01, -9.38566574e-01, -3.04834043e-01,\n",
       "         1.85053829e-01,  7.92075529e-01, -5.83810778e-01,\n",
       "         5.38456250e-01, -3.96290692e-01,  1.00615390e+00],\n",
       "       [-6.02577838e-01, -1.68484146e+00, -3.94361879e-01,\n",
       "         3.55817948e-01, -6.62340307e-01, -4.87664118e-01,\n",
       "        -7.11062141e-01, -6.83077804e-01, -9.93883735e-01],\n",
       "       [-3.30876074e-01, -2.05797890e+00, -3.04834043e-01,\n",
       "         1.03087051e-01, -5.93372192e-01, -7.03994103e-01,\n",
       "        -4.02115286e-01, -7.78673508e-01,  1.00615390e+00],\n",
       "       [-5.34652397e-01,  9.27120640e-01, -3.94361879e-01,\n",
       "         8.40788048e-01,  2.07609955e+00,  1.29104909e+00,\n",
       "         1.82230207e+00,  1.87069314e+00, -9.93883735e-01],\n",
       "       [ 4.84229217e-01,  1.80845755e-01, -3.94361879e-01,\n",
       "         6.29040540e-01, -4.73692228e-01,  2.09399168e-01,\n",
       "        -2.64805573e-01, -2.51347162e-04,  1.00615390e+00],\n",
       "       [-1.75731033e+00, -5.65429131e-01, -3.94361879e-01,\n",
       "         1.19597742e+00,  7.67733841e-01,  2.75728566e+00,\n",
       "         1.32798710e+00,  2.67642836e+00,  1.00615390e+00],\n",
       "       [ 1.77481259e+00, -9.38566574e-01, -8.10144529e-02,\n",
       "        -2.77941129e+00, -8.38817542e-01, -1.08858074e+00,\n",
       "        -9.85681567e-01, -9.15238799e-01, -9.93883735e-01],\n",
       "       [ 8.23856422e-01, -5.65429131e-01, -3.94361879e-01,\n",
       "         6.56362799e-01, -1.99848242e-01,  1.61325838e-01,\n",
       "        -1.61823288e-01,  1.34051820e-02, -9.93883735e-01],\n",
       "       [-5.34652397e-01, -5.65429131e-01, -3.94361879e-01,\n",
       "         6.42701669e-01, -6.19742354e-01,  1.13252508e-01,\n",
       "        -5.73752428e-01, -2.46068872e-01,  1.00615390e+00],\n",
       "       [ 1.02763274e+00,  5.53983197e-01, -3.94361879e-01,\n",
       "         2.26037218e-01, -6.17713880e-01, -4.39590788e-01,\n",
       "        -7.45389569e-01, -6.83077804e-01, -9.93883735e-01],\n",
       "       [ 1.16348363e+00,  1.80845755e-01, -2.15306207e-01,\n",
       "        -1.16056743e+00, -4.43265118e-01, -8.72250758e-01,\n",
       "        -7.86582483e-01, -8.60612683e-01, -9.93883735e-01],\n",
       "       [-9.42205043e-01, -1.68484146e+00, -3.94361879e-01,\n",
       "         8.61279743e-01, -3.21556680e-01,  5.45912478e-01,\n",
       "        -3.60922372e-01,  1.36313944e-01, -9.93883735e-01],\n",
       "       [ 3.48378335e-01,  1.30025808e+00,  5.32773012e-02,\n",
       "        -1.15373687e+00, -8.18532803e-01, -8.24177428e-01,\n",
       "        -9.37623168e-01, -8.60612683e-01, -9.93883735e-01],\n",
       "       [-1.89316122e+00, -1.92291688e-01, -3.94361879e-01,\n",
       "         1.16182459e+00, -1.26823179e-01,  2.68517566e+00,\n",
       "         4.35473965e-01,  1.93897579e+00,  1.00615390e+00],\n",
       "       [ 1.16348363e+00,  1.80845755e-01,  4.11388646e-01,\n",
       "        -2.00755747e+00, -8.36789069e-01, -1.01647075e+00,\n",
       "        -9.30757682e-01, -9.01582270e-01, -9.93883735e-01],\n",
       "       [ 1.44602012e-01, -5.65429131e-01, -3.94361879e-01,\n",
       "         5.26582068e-01,  1.08479801e-01, -1.27114143e-01,\n",
       "        -5.19755172e-02, -1.50473168e-01, -9.93883735e-01],\n",
       "       [ 8.75113043e-03, -1.92291688e-01, -3.94361879e-01,\n",
       "         6.97346188e-01,  7.33249784e-01,  3.29582493e-01,\n",
       "         5.38456250e-01,  4.77727173e-01, -9.93883735e-01],\n",
       "       [-1.07805592e+00,  9.27120640e-01,  2.29147320e+00,\n",
       "         2.73851171e-01, -7.96219589e-01, -3.43444128e-01,\n",
       "        -4.91366600e-01, -5.05542925e-01,  1.00615390e+00],\n",
       "       [-1.21390681e+00,  9.27120640e-01, -3.94361879e-01,\n",
       "         9.36415955e-01, -5.17696424e-02,  1.62756240e+00,\n",
       "         1.47123567e-01,  1.13324057e+00,  1.00615390e+00],\n",
       "       [-5.34652397e-01, -1.68484146e+00, -3.94361879e-01,\n",
       "         7.51990706e-01,  1.81504864e-01,  2.09399168e-01,\n",
       "         1.81450995e-01,  2.18253119e-01, -9.93883735e-01],\n",
       "       [-3.30876074e-01, -1.31170402e+00,  1.44095876e+00,\n",
       "        -7.30241852e-01, -8.22589751e-01, -8.48214093e-01,\n",
       "        -8.68968311e-01, -8.60612683e-01,  1.00615390e+00],\n",
       "       [ 7.66765714e-02,  9.27120640e-01, -3.94361879e-01,\n",
       "         6.83685058e-01,  4.63462746e-01,  5.21875813e-01,\n",
       "         3.46222651e-01,  5.32353289e-01, -9.93883735e-01],\n",
       "       [ 7.66765714e-02,  5.53983197e-01, -3.94361879e-01,\n",
       "         7.11007317e-01,  1.96250501e+00,  5.45912478e-01,\n",
       "         1.69185784e+00,  1.22883628e+00, -9.93883735e-01],\n",
       "       [-5.34652397e-01,  1.80845755e-01, -3.49597961e-01,\n",
       "         2.12376088e-01, -6.68425729e-01, -4.87664118e-01,\n",
       "        -7.72851512e-01, -7.24047391e-01, -9.93883735e-01],\n",
       "       [-1.07805592e+00, -5.65429131e-01, -8.10144529e-02,\n",
       "         4.84425331e-02, -8.14475855e-01, -6.55920773e-01,\n",
       "        -6.69869227e-01, -7.92330037e-01, -9.93883735e-01],\n",
       "       [ 7.55930981e-01,  1.30025808e+00, -3.49597961e-01,\n",
       "        -6.76770683e-02, -3.39812946e-01, -5.83810778e-01,\n",
       "        -7.52255055e-01, -7.92330037e-01, -9.93883735e-01],\n",
       "       [-1.14598137e+00, -9.38566574e-01, -2.60070125e-01,\n",
       "         4.85598679e-01,  1.06451327e-01, -2.47297468e-01,\n",
       "         1.67720024e-01, -1.64129697e-01,  1.00615390e+00],\n",
       "       [-5.91743105e-02, -2.05797890e+00,  3.50009899e+00,\n",
       "        -7.71225241e-01, -8.24618225e-01, -8.72250758e-01,\n",
       "        -8.34640883e-01, -8.60612683e-01,  1.00615390e+00],\n",
       "       [ 1.63896171e+00,  5.03163251e+00, -1.70542289e-01,\n",
       "        -2.11001594e+00, -8.32732121e-01, -9.92434083e-01,\n",
       "        -9.03295739e-01, -8.87925741e-01,  1.00615390e+00],\n",
       "       [-5.34652397e-01, -9.38566574e-01, -2.60070125e-01,\n",
       "         3.83140208e-01,  8.83356857e-01, -1.99224138e-01,\n",
       "         3.73684594e-01, -5.48774637e-02, -9.93883735e-01],\n",
       "       [-6.02577838e-01, -1.68484146e+00, -3.49597961e-01,\n",
       "         4.71937550e-01, -4.59492910e-01, -3.43444128e-01,\n",
       "        -4.98232085e-01, -4.91886396e-01,  1.00615390e+00],\n",
       "       [-8.74279602e-01,  1.30025808e+00, -1.25778371e-01,\n",
       "         6.89342274e-02, -1.53193341e-01, -5.11700783e-01,\n",
       "        -2.51074601e-01, -5.32855984e-01, -9.93883735e-01],\n",
       "       [ 1.77481259e+00,  1.80845755e-01, -1.25778371e-01,\n",
       "        -2.69744451e+00, -8.34760595e-01, -1.08858074e+00,\n",
       "        -1.02687448e+00, -9.15238799e-01, -9.93883735e-01],\n",
       "       [-1.55353401e+00, -9.38566574e-01, -3.94361879e-01,\n",
       "         1.03204386e+00,  1.32821489e-01,  1.50737908e+00,\n",
       "         3.94281051e-01,  1.22883628e+00,  1.00615390e+00],\n",
       "       [ 4.16303776e-01,  1.80845755e-01, -3.94361879e-01,\n",
       "         6.63193364e-01, -7.14321508e-03,  2.33435833e-01,\n",
       "         4.41412821e-02,  1.77283532e-01, -9.93883735e-01],\n",
       "       [ 1.23140907e+00,  5.53983197e-01, -3.94361879e-01,\n",
       "         5.33412633e-01, -1.34937075e-01,  4.11425125e-02,\n",
       "         2.98164252e-01,  1.36313944e-01,  1.00615390e+00],\n",
       "       [ 3.48378335e-01, -5.65429131e-01,  2.32332973e-01,\n",
       "        -6.96089029e-01, -8.06361959e-01, -8.24177428e-01,\n",
       "        -6.28676313e-01, -8.33299625e-01, -9.93883735e-01],\n",
       "       [-1.96108666e+00,  1.80845755e-01, -3.04834043e-01,\n",
       "         7.86143530e-01, -7.81398040e-02,  7.14169133e-01,\n",
       "         6.47377390e-02,  5.18696760e-01,  1.00615390e+00],\n",
       "       [-8.06354161e-01, -9.38566574e-01, -3.94361879e-01,\n",
       "         8.13465789e-01,  2.53123684e-02,  5.69949143e-01,\n",
       "         8.53341960e-02,  4.23101056e-01,  1.00615390e+00],\n",
       "       [-1.75731033e+00,  1.80845755e-01, -3.94361879e-01,\n",
       "         1.05253556e+00,  2.39862691e+00,  2.06022237e+00,\n",
       "         3.25718857e+00,  3.22268953e+00,  1.00615390e+00],\n",
       "       [ 8.23856422e-01,  1.80845755e-01, -3.94361879e-01,\n",
       "         2.73851171e-01, -5.06147812e-01, -4.15554123e-01,\n",
       "        -7.86582483e-01, -6.83077804e-01, -9.93883735e-01],\n",
       "       [ 1.36725995e+00,  5.53983197e-01, -3.94361879e-01,\n",
       "         5.26582068e-01, -3.21556680e-01,  4.11425125e-02,\n",
       "         1.81450995e-01,  8.16878277e-02,  1.00615390e+00],\n",
       "       [ 7.66765714e-02, -5.65429131e-01, -3.94361879e-01,\n",
       "         8.27126919e-01,  2.48179435e+00,  1.07471911e+00,\n",
       "         2.35780995e+00,  1.93897579e+00, -9.93883735e-01],\n",
       "       [-6.70503279e-01,  1.30025808e+00, -3.94361879e-01,\n",
       "         8.47618613e-01,  1.00709377e+00,  1.31508576e+00,\n",
       "         5.04128821e-01,  1.17421016e+00, -9.93883735e-01],\n",
       "       [ 1.02763274e+00,  9.27120640e-01, -3.94361879e-01,\n",
       "         6.15379410e-01,  2.87328982e+00,  4.11425125e-02,\n",
       "         2.78347006e+00,  9.55705693e-01, -9.93883735e-01],\n",
       "       [-2.30071386e+00,  9.27120640e-01, -3.94361879e-01,\n",
       "         1.16865516e+00,  6.41968455e-01,  3.35820228e+00,\n",
       "         1.57514458e+00,  3.18171994e+00,  1.00615390e+00],\n",
       "       [-6.02577838e-01,  9.27120640e-01, -3.49597961e-01,\n",
       "         1.98714958e-01, -6.84653521e-01, -6.79957438e-01,\n",
       "        -7.86582483e-01, -8.19643095e-01,  1.00615390e+00],\n",
       "       [-3.30876074e-01,  9.27120640e-01,  5.90444318e-01,\n",
       "        -8.94175407e-01, -8.20561277e-01, -8.00140763e-01,\n",
       "        -9.10161225e-01, -8.46956154e-01,  1.00615390e+00],\n",
       "       [-2.02901210e+00, -9.38566574e-01, -3.49597961e-01,\n",
       "         9.43246520e-01,  5.85171184e-01,  1.07471911e+00,\n",
       "         7.99344705e-01,  1.18786669e+00,  1.00615390e+00],\n",
       "       [-3.30876074e-01,  9.27120640e-01, -3.94361879e-01,\n",
       "         7.65651836e-01, -2.46503143e-01,  8.34352458e-01,\n",
       "        -1.68688773e-01,  4.36757585e-01,  1.00615390e+00],\n",
       "       [ 1.44602012e-01,  1.30025808e+00, -1.25778371e-01,\n",
       "        -5.79969427e-01, -6.84653521e-01, -7.28030768e-01,\n",
       "        -7.38524083e-01, -8.19643095e-01, -9.93883735e-01],\n",
       "       [-4.66726956e-01,  1.80845755e-01, -3.94361879e-01,\n",
       "         8.27126919e-01,  1.65277072e-01,  8.82425788e-01,\n",
       "         4.97263336e-01,  8.87423047e-01,  1.00615390e+00],\n",
       "       [ 6.20080099e-01, -5.65429131e-01, -3.94361879e-01,\n",
       "         5.06090374e-01, -4.81806124e-01, -1.75187473e-01,\n",
       "        -5.11963057e-01, -3.82634163e-01,  1.00615390e+00],\n",
       "       [-1.95025192e-01,  9.27120640e-01, -2.60070125e-01,\n",
       "         2.11202739e-02, -3.95987986e-02, -5.59774113e-01,\n",
       "        -1.68688773e-01, -5.60169042e-01, -9.93883735e-01],\n",
       "       [ 1.57103627e+00,  2.04653297e+00,  1.66477835e+00,\n",
       "        -2.45154418e+00, -8.40846016e-01, -1.06454408e+00,\n",
       "        -1.01314351e+00, -9.15238799e-01, -9.93883735e-01],\n",
       "       [-2.62950633e-01,  5.53983197e-01, -3.94361879e-01,\n",
       "         7.24668447e-01,  1.63248598e-01,  5.69949143e-01,\n",
       "         9.21996817e-02,  4.36757585e-01, -9.93883735e-01],\n",
       "       [ 1.43518539e+00,  9.27120640e-01, -3.94361879e-01,\n",
       "         4.78768115e-01,  7.05610270e-03, -6.93081752e-03,\n",
       "        -3.82445459e-02, -5.48774637e-02, -9.93883735e-01],\n",
       "       [-1.68938489e+00, -1.92291688e-01, -3.94361879e-01,\n",
       "         1.04570499e+00,  2.00307449e+00,  1.84389239e+00,\n",
       "         2.63242938e+00,  2.75836754e+00,  1.00615390e+00],\n",
       "       [-1.75731033e+00,  9.27120640e-01, -3.04834043e-01,\n",
       "         8.27126919e-01, -6.96824365e-01,  1.91600238e+00,\n",
       "        -4.22711743e-01, -9.15238799e-01,  1.00615390e+00],\n",
       "       [-4.66726956e-01,  5.53983197e-01, -3.49597961e-01,\n",
       "         5.40243198e-01, -4.39208171e-01,  4.11425125e-02,\n",
       "        -4.29577229e-01, -2.05099284e-01,  1.00615390e+00],\n",
       "       [ 8.23856422e-01,  1.80845755e-01, -3.94361879e-01,\n",
       "         3.69479078e-01, -5.00062390e-01, -2.95370798e-01,\n",
       "        -7.24793112e-01, -5.73825571e-01,  1.00615390e+00],\n",
       "       [-5.91743105e-02,  1.30025808e+00, -3.94361879e-01,\n",
       "         8.61279743e-01,  1.45944346e+00,  1.24297576e+00,\n",
       "         1.01217476e+00,  1.43368421e+00, -9.93883735e-01],\n",
       "       [-8.74279602e-01, -5.65429131e-01, -3.94361879e-01,\n",
       "         8.13465789e-01,  8.89442279e-01,  6.42059138e-01,\n",
       "         8.06210191e-01,  8.46453459e-01, -9.93883735e-01],\n",
       "       [-1.96108666e+00,  5.53983197e-01, -3.94361879e-01,\n",
       "         1.05253556e+00,  9.80723608e-01,  2.22847903e+00,\n",
       "         8.81730533e-01,  2.03457149e+00,  1.00615390e+00],\n",
       "       [ 1.23140907e+00, -1.92291688e-01, -3.94361879e-01,\n",
       "         5.33412633e-01, -1.51164867e-01, -5.50041475e-02,\n",
       "        -1.54957802e-01, -1.36816639e-01,  1.00615390e+00],\n",
       "       [-2.62950633e-01,  1.80845755e-01, -3.94361879e-01,\n",
       "         7.72482400e-01, -3.55418507e-02,  6.90132468e-01,\n",
       "         2.02047452e-01,  5.73322877e-01,  1.00615390e+00],\n",
       "       [ 2.80452894e-01, -5.65429131e-01, -3.94361879e-01,\n",
       "         3.96801337e-01, -5.42660343e-01, -3.43444128e-01,\n",
       "        -6.56138256e-01, -5.73825571e-01, -9.93883735e-01],\n",
       "       [-1.01013048e+00, -9.38566574e-01, -3.94361879e-01,\n",
       "         9.22754826e-01,  1.20791269e+00,  1.00260911e+00,\n",
       "         8.81730533e-01,  1.17421016e+00, -9.93883735e-01],\n",
       "       [ 7.66765714e-02, -5.65429131e-01, -3.94361879e-01,\n",
       "         1.78223264e-01, -6.80596573e-01, -5.59774113e-01,\n",
       "        -7.52255055e-01, -7.78673508e-01,  1.00615390e+00],\n",
       "       [-5.34652397e-01, -1.92291688e-01, -3.94361879e-01,\n",
       "         8.40788048e-01, -1.14652335e-01,  8.34352458e-01,\n",
       "         2.91298766e-01,  7.23544697e-01,  1.00615390e+00]])"
      ]
     },
     "execution_count": 46,
     "metadata": {},
     "output_type": "execute_result"
    }
   ],
   "source": [
    "##TEST independent variables\n",
    "#only transform in test to avoid data leakage \n",
    "#(only techniques shud be known about train data, not the features and data shud not be leaked to test data)\n",
    "x_test = scaler.transform(x_test)\n",
    "x_test"
   ]
  },
  {
   "cell_type": "markdown",
   "id": "7bc29d91",
   "metadata": {},
   "source": [
    "# Model Building"
   ]
  },
  {
   "cell_type": "code",
   "execution_count": 47,
   "id": "934531cb",
   "metadata": {},
   "outputs": [],
   "source": [
    "from sklearn.linear_model import LinearRegression\n",
    "from sklearn import metrics\n",
    "from sklearn.metrics import r2_score,mean_squared_error, mean_absolute_error"
   ]
  },
  {
   "cell_type": "code",
   "execution_count": 48,
   "id": "761aee29",
   "metadata": {},
   "outputs": [
    {
     "data": {
      "text/plain": [
       "LinearRegression()"
      ]
     },
     "execution_count": 48,
     "metadata": {},
     "output_type": "execute_result"
    }
   ],
   "source": [
    "l= LinearRegression()\n",
    "l"
   ]
  },
  {
   "cell_type": "code",
   "execution_count": 49,
   "id": "cd4b72c3",
   "metadata": {},
   "outputs": [
    {
     "data": {
      "text/plain": [
       "LinearRegression()"
      ]
     },
     "execution_count": 49,
     "metadata": {},
     "output_type": "execute_result"
    }
   ],
   "source": [
    "l.fit(x_train,y_train)"
   ]
  },
  {
   "cell_type": "code",
   "execution_count": 50,
   "id": "9bc951e0",
   "metadata": {},
   "outputs": [
    {
     "name": "stdout",
     "output_type": "stream",
     "text": [
      "[-1.1368636  -0.4685122   0.09815948  1.65634219  0.36780094  0.13132539\n",
      "  0.01147392 -0.06949529  0.04345327]\n"
     ]
    }
   ],
   "source": [
    "#1 unit increase in Relative humidity(x-value) decreases temperature(y-value) by 1.13.\n",
    "#1 unit increase in Wind Speed(x-value) decreases temperature(y-value) by 0.46.\n",
    "\n",
    "print(l.coef_)\n",
    "\n",
    "#y = mx+c (m = slope, c= intercept)\n",
    "#y = - 1.13 RH - 0.46 Ws + 0.098 Rain + 1.65 FFMC + 0.36 DC + 0.13 ISI + 0.01 BUI - 0.06 FWI + 0.04 Region + 31.98(Intercept)"
   ]
  },
  {
   "cell_type": "code",
   "execution_count": 51,
   "id": "7917cd07",
   "metadata": {},
   "outputs": [
    {
     "name": "stdout",
     "output_type": "stream",
     "text": [
      "31.98159509202454\n"
     ]
    }
   ],
   "source": [
    "print(l.intercept_)"
   ]
  },
  {
   "cell_type": "markdown",
   "id": "c64ef1de",
   "metadata": {},
   "source": [
    "The coefficient value represents the mean change in the response given a one unit change in the predictor. \n",
    "A positive coefficient indicates that as the value of the independent variable increases, the mean of the dependent variable also tends to increase. "
   ]
  },
  {
   "cell_type": "markdown",
   "id": "93492eb6",
   "metadata": {},
   "source": [
    "## Prediction of Train Data"
   ]
  },
  {
   "cell_type": "code",
   "execution_count": 52,
   "id": "bd63d398",
   "metadata": {},
   "outputs": [
    {
     "data": {
      "text/plain": [
       "array([32.85438898, 33.18672977, 34.25044138, 35.97100027, 32.17102497,\n",
       "       27.6493854 , 26.01932482, 33.25021599, 34.15323087, 31.04814401,\n",
       "       33.02920618, 32.24409471, 25.00577826, 34.50067677, 30.02643454,\n",
       "       29.61431068, 30.38581353, 36.98922849, 32.28794048, 31.01101805,\n",
       "       34.10780253, 28.93899378, 34.12178978, 31.59535139, 33.91877532,\n",
       "       34.16425262, 34.02246105, 32.94148419, 36.73194839, 30.3019825 ,\n",
       "       26.11136027, 34.1994327 , 32.16635672, 28.22906723, 26.51645856,\n",
       "       33.15820558, 31.32246962, 31.59354239, 34.58580059, 33.68464462,\n",
       "       32.73592281, 30.02468298, 31.66137384, 33.432383  , 33.44874753,\n",
       "       32.03389584, 33.27801628, 34.80892157, 28.54125581, 30.80474914,\n",
       "       31.74807274, 34.49910696, 35.50567812, 29.05183656, 29.39922981,\n",
       "       28.23334889, 29.30570628, 34.78965159, 29.44551859, 32.94385003,\n",
       "       27.65534667, 34.06970786, 32.6494673 , 36.366699  , 34.32544427,\n",
       "       35.80635351, 32.58073337, 27.86873343, 30.15965524, 31.3877796 ,\n",
       "       29.05367048, 32.50514964, 34.29020846, 29.87287755, 33.74417687,\n",
       "       30.39025858, 35.06189527, 32.70596212, 26.72305549, 36.09989174,\n",
       "       31.93968116, 32.24991822, 34.31678418, 24.57457232, 25.69998742,\n",
       "       30.06323095, 33.4665213 , 30.76950748, 32.83306845, 33.77548158,\n",
       "       32.42038049, 35.25723313, 32.85900696, 32.81630694, 32.83166819,\n",
       "       32.26556143, 34.61242514, 34.0491073 , 27.23806467, 34.91648733,\n",
       "       31.2578295 , 31.3508057 , 35.46726777, 27.55468334, 27.58839008,\n",
       "       32.3516306 , 35.53085625, 35.08302518, 28.38327487, 34.60451449,\n",
       "       33.93753131, 36.03693385, 32.14080712, 38.70474956, 31.46825071,\n",
       "       31.81364891, 32.45147167, 31.86354471, 32.23777047, 36.05846746,\n",
       "       32.66905583, 35.41314912, 31.39469737, 25.97889895, 30.62391594,\n",
       "       32.7578233 , 32.89871095, 33.30884415, 34.35761589, 31.48561946,\n",
       "       32.59050239, 32.9846516 , 34.01289672, 34.68913396, 35.07804844,\n",
       "       35.79078047, 31.73409393, 31.93063614, 34.56438138, 37.47606896,\n",
       "       30.76910819, 29.6934274 , 36.35083012, 31.72001328, 33.75567275,\n",
       "       29.44605422, 28.86247705, 26.22021516, 31.47751422, 31.86367532,\n",
       "       33.42770712, 25.32363625, 33.88563718, 27.06670791, 30.62695019,\n",
       "       31.31850187, 32.01304544, 33.94571616, 26.52641601, 26.96634863,\n",
       "       27.06421054, 33.52822648, 27.49835253])"
      ]
     },
     "execution_count": 52,
     "metadata": {},
     "output_type": "execute_result"
    }
   ],
   "source": [
    "x_train_pred= l.predict(x_train)\n",
    "x_train_pred"
   ]
  },
  {
   "cell_type": "markdown",
   "id": "5fd5548d",
   "metadata": {},
   "source": [
    "# Prediction of Test Data"
   ]
  },
  {
   "cell_type": "code",
   "execution_count": 53,
   "id": "73b1a623",
   "metadata": {
    "scrolled": true
   },
   "outputs": [
    {
     "data": {
      "text/plain": [
       "array([33.15672181, 34.22749962, 34.10842426, 33.60587359, 36.57141347,\n",
       "       32.4508687 , 35.32035719, 27.44820528, 30.7927293 , 29.53034812,\n",
       "       29.21037243, 33.36617223, 33.69513107, 33.24529521, 34.28983294,\n",
       "       32.24353488, 36.70399876, 25.34962811, 32.26005016, 33.72132516,\n",
       "       30.60025903, 28.36072716, 35.12660756, 28.66716654, 36.32957455,\n",
       "       26.85685258, 32.90548149, 33.42083423, 33.18661375, 34.60094234,\n",
       "       34.62361828, 31.58383618, 32.71654956, 33.45816722, 32.51051708,\n",
       "       33.1628788 , 30.16819685, 34.56666651, 31.75532001, 23.90774072,\n",
       "       33.90188492, 34.06146935, 32.33559601, 24.95756031, 36.067844  ,\n",
       "       32.4563782 , 31.16034824, 30.32298436, 35.47202018, 34.74616201,\n",
       "       36.60924589, 31.12965872, 30.92840879, 34.39368992, 33.92402414,\n",
       "       32.34405253, 36.57762112, 32.27764514, 30.185541  , 36.58276322,\n",
       "       33.18319994, 29.89291631, 33.92319488, 32.20532995, 31.68412791,\n",
       "       24.89926012, 33.24498435, 30.63178365, 36.5467352 , 34.98293518,\n",
       "       33.0100704 , 31.38609724, 33.39635581, 34.86780428, 36.22199533,\n",
       "       31.50517424, 33.52034579, 32.29066557, 35.52065974, 32.18118999,\n",
       "       34.0976178 ])"
      ]
     },
     "execution_count": 53,
     "metadata": {},
     "output_type": "execute_result"
    }
   ],
   "source": [
    "x_test_pred = l.predict(x_test)\n",
    "x_test_pred"
   ]
  },
  {
   "cell_type": "markdown",
   "id": "c6d74561",
   "metadata": {},
   "source": [
    "# R2 Accuracy of Train & Test Data"
   ]
  },
  {
   "cell_type": "code",
   "execution_count": 54,
   "id": "efde7215",
   "metadata": {},
   "outputs": [
    {
     "name": "stdout",
     "output_type": "stream",
     "text": [
      "0.5747484869842483\n"
     ]
    }
   ],
   "source": [
    "#train data\n",
    "train_r2Score=metrics.r2_score(y_train,x_train_pred)\n",
    "print(train_r2Score)"
   ]
  },
  {
   "cell_type": "code",
   "execution_count": 55,
   "id": "1a9bc757",
   "metadata": {},
   "outputs": [
    {
     "name": "stdout",
     "output_type": "stream",
     "text": [
      "0.5257797487070512\n"
     ]
    }
   ],
   "source": [
    "#test data\n",
    "test_r2Score=metrics.r2_score(y_test,x_test_pred)\n",
    "print(test_r2Score)\n"
   ]
  },
  {
   "cell_type": "markdown",
   "id": "e75bda84",
   "metadata": {},
   "source": [
    "# Adjusted R2 of Train & Test Data"
   ]
  },
  {
   "cell_type": "code",
   "execution_count": 56,
   "id": "c5260bd1",
   "metadata": {},
   "outputs": [
    {
     "data": {
      "text/plain": [
       "0.5208433656160544"
      ]
     },
     "execution_count": 56,
     "metadata": {},
     "output_type": "execute_result"
    }
   ],
   "source": [
    "#train data\n",
    "1- (1-train_r2Score)*(len(y_test)-1)/(len(y_test)-x_test.shape[1]-1)"
   ]
  },
  {
   "cell_type": "code",
   "execution_count": 57,
   "id": "b77f9383",
   "metadata": {},
   "outputs": [
    {
     "data": {
      "text/plain": [
       "0.4656673224868183"
      ]
     },
     "execution_count": 57,
     "metadata": {},
     "output_type": "execute_result"
    }
   ],
   "source": [
    "#test data\n",
    "1- (1-test_r2Score)*(len(y_test)-1)/(len(y_test)-x_test.shape[1]-1)"
   ]
  },
  {
   "cell_type": "markdown",
   "id": "815ac621",
   "metadata": {},
   "source": [
    "# Evaluation Metrics -> MSE, MAE, RMSE"
   ]
  },
  {
   "cell_type": "code",
   "execution_count": 58,
   "id": "9b2b7faf",
   "metadata": {},
   "outputs": [
    {
     "name": "stdout",
     "output_type": "stream",
     "text": [
      "6.055124426777113\n",
      "1.999915436252755\n",
      "2.4607162426369102\n"
     ]
    }
   ],
   "source": [
    "# Train data\n",
    "print(mean_squared_error(y_train, x_train_pred))\n",
    "print(mean_absolute_error(y_train, x_train_pred))\n",
    "print(np.sqrt(mean_squared_error(y_train, x_train_pred)))"
   ]
  },
  {
   "cell_type": "code",
   "execution_count": 59,
   "id": "6273435f",
   "metadata": {},
   "outputs": [
    {
     "name": "stdout",
     "output_type": "stream",
     "text": [
      "5.093476773146487\n",
      "1.8037274811336452\n",
      "2.256873229303429\n"
     ]
    }
   ],
   "source": [
    "# Test data\n",
    "print(mean_squared_error(y_test, x_test_pred))\n",
    "print(mean_absolute_error(y_test, x_test_pred))\n",
    "print(np.sqrt(mean_squared_error(y_test, x_test_pred)))"
   ]
  },
  {
   "cell_type": "markdown",
   "id": "f40dc310",
   "metadata": {},
   "source": [
    "# Assumptions of Linear Regression"
   ]
  },
  {
   "cell_type": "code",
   "execution_count": 60,
   "id": "d9b9f96e",
   "metadata": {},
   "outputs": [
    {
     "data": {
      "text/plain": [
       "Text(0, 0.5, 'Test Predicted Data')"
      ]
     },
     "execution_count": 60,
     "metadata": {},
     "output_type": "execute_result"
    },
    {
     "data": {
      "image/png": "[encoded data removed]",
      "text/plain": [
       "<Figure size 432x288 with 1 Axes>"
      ]
     },
     "metadata": {
      "needs_background": "light"
     },
     "output_type": "display_data"
    }
   ],
   "source": [
    "# Relation between actual and predicted data shows linearity.\n",
    "plt.scatter(y_test, x_test_pred)\n",
    "plt.xlabel(\"Test Truth Data\")\n",
    "plt.ylabel(\"Test Predicted Data\")"
   ]
  },
  {
   "cell_type": "markdown",
   "id": "480494bb",
   "metadata": {},
   "source": [
    "# Residuals"
   ]
  },
  {
   "cell_type": "code",
   "execution_count": 61,
   "id": "0c9d871a",
   "metadata": {},
   "outputs": [
    {
     "data": {
      "text/plain": [
       "24    -2.156722\n",
       "6     -1.227500\n",
       "155   -1.108424\n",
       "213    1.394126\n",
       "200    3.428587\n",
       "         ...   \n",
       "182    0.479654\n",
       "5     -1.290666\n",
       "56     0.479340\n",
       "127   -2.181190\n",
       "150    1.902382\n",
       "Name: Temperature, Length: 81, dtype: float64"
      ]
     },
     "execution_count": 61,
     "metadata": {},
     "output_type": "execute_result"
    }
   ],
   "source": [
    "residuals = y_test-x_test_pred\n",
    "residuals"
   ]
  },
  {
   "cell_type": "code",
   "execution_count": 62,
   "id": "e3ce98e5",
   "metadata": {},
   "outputs": [
    {
     "data": {
      "text/plain": [
       "<seaborn.axisgrid.FacetGrid at 0x1288cfb80>"
      ]
     },
     "execution_count": 62,
     "metadata": {},
     "output_type": "execute_result"
    },
    {
     "data": {
      "image/png": "[encoded data removed]",
      "text/plain": [
       "<Figure size 360x360 with 1 Axes>"
      ]
     },
     "metadata": {
      "needs_background": "light"
     },
     "output_type": "display_data"
    }
   ],
   "source": [
    "# Here one can see a slightly left skewed distribution but approx normal distribution.\n",
    "sns.displot(residuals, kind = 'kde')"
   ]
  },
  {
   "cell_type": "markdown",
   "id": "1609fc7f",
   "metadata": {},
   "source": [
    "# Scatterplot with prediction and residual"
   ]
  },
  {
   "cell_type": "code",
   "execution_count": 63,
   "id": "88d84c81",
   "metadata": {},
   "outputs": [
    {
     "data": {
      "text/plain": [
       "<matplotlib.collections.PathCollection at 0x128bad340>"
      ]
     },
     "execution_count": 63,
     "metadata": {},
     "output_type": "execute_result"
    },
    {
     "data": {
      "image/png": "[encoded data removed]",
      "text/plain": [
       "<Figure size 432x288 with 1 Axes>"
      ]
     },
     "metadata": {
      "needs_background": "light"
     },
     "output_type": "display_data"
    }
   ],
   "source": [
    "# The linear regression model is homoscedastic in nature.\n",
    "plt.scatter(x_test_pred, residuals)"
   ]
  },
  {
   "cell_type": "markdown",
   "id": "1a2ed373",
   "metadata": {},
   "source": [
    "# Lasso (L1 Regularization) -> to reduce the features which are not important as using Lasso makes the coefficients which are not highly correlated  to zero."
   ]
  },
  {
   "cell_type": "code",
   "execution_count": 64,
   "id": "17cd33b3",
   "metadata": {},
   "outputs": [],
   "source": [
    "from sklearn.linear_model import Lasso"
   ]
  },
  {
   "cell_type": "code",
   "execution_count": 65,
   "id": "d89f585d",
   "metadata": {},
   "outputs": [
    {
     "data": {
      "text/plain": [
       "Lasso()"
      ]
     },
     "execution_count": 65,
     "metadata": {},
     "output_type": "execute_result"
    }
   ],
   "source": [
    "lg = Lasso()\n",
    "lg"
   ]
  },
  {
   "cell_type": "code",
   "execution_count": 66,
   "id": "3c691e37",
   "metadata": {},
   "outputs": [
    {
     "data": {
      "text/plain": [
       "Lasso()"
      ]
     },
     "execution_count": 66,
     "metadata": {},
     "output_type": "execute_result"
    }
   ],
   "source": [
    "lg.fit(x_train, y_train)"
   ]
  },
  {
   "cell_type": "code",
   "execution_count": 67,
   "id": "7793b3f4",
   "metadata": {},
   "outputs": [
    {
     "data": {
      "text/plain": [
       "array([-0.62324302, -0.        , -0.        ,  1.25581509,  0.        ,\n",
       "        0.        ,  0.        ,  0.        ,  0.        ])"
      ]
     },
     "execution_count": 67,
     "metadata": {},
     "output_type": "execute_result"
    }
   ],
   "source": [
    "#The features whihc are not important have become 0 due to L1 regularization.\n",
    "lg.coef_"
   ]
  },
  {
   "cell_type": "markdown",
   "id": "5ae58473",
   "metadata": {},
   "source": [
    "# Predict Train Data"
   ]
  },
  {
   "cell_type": "code",
   "execution_count": 68,
   "id": "76962832",
   "metadata": {},
   "outputs": [
    {
     "data": {
      "text/plain": [
       "array([32.09202119, 32.75005491, 34.04969942, 34.26303643, 32.10171026,\n",
       "       29.65897925, 28.78903094, 32.85187888, 32.92019102, 31.64381368,\n",
       "       32.62996394, 32.12966634, 27.03166719, 33.45948923, 31.00793599,\n",
       "       30.83304401, 30.76108715, 35.14458485, 32.353248  , 31.32309696,\n",
       "       33.37759899, 30.02727451, 33.43875562, 31.92324053, 33.44677797,\n",
       "       32.97252542, 33.20135156, 32.57127391, 34.82417939, 31.27878491,\n",
       "       28.62493919, 33.51484581, 32.19526757, 29.60862284, 28.43900268,\n",
       "       32.96283634, 31.63381334, 31.32889701, 33.14186165, 33.15790635,\n",
       "       32.54498456, 31.02064724, 32.20908998, 32.82527825, 32.91050194,\n",
       "       32.41384906, 32.61336366, 33.52700149, 29.97611822, 31.83252806,\n",
       "       31.94650771, 33.37068778, 33.926275  , 30.35490243, 29.94840645,\n",
       "       30.25141174, 30.17198811, 33.87289642, 30.4705488 , 32.41853796,\n",
       "       29.29235072, 33.53613499, 32.57682966, 34.61997589, 33.35353193,\n",
       "       34.05883292, 32.42631601, 29.87620528, 30.583173  , 31.79543848,\n",
       "       29.74364737, 32.63051952, 33.38784364, 31.23540667, 33.20079598,\n",
       "       30.84797756, 33.4896676 , 32.50296177, 28.40826873, 34.69662165,\n",
       "       31.81283864, 32.49438385, 33.18252898, 26.74168442, 28.90467731,\n",
       "       30.75862055, 33.22652976, 31.40752077, 31.2400286 , 33.58180249,\n",
       "       32.28684689, 33.92214167, 32.75172164, 32.63051952, 32.35602587,\n",
       "       32.3942266 , 33.65098148, 33.30317552, 29.17281532, 33.4896676 ,\n",
       "       31.56685665, 31.79766078, 33.75280545, 28.86845458, 29.81504865,\n",
       "       32.03728715, 33.57600244, 33.98909836, 29.6349122 , 33.91411932,\n",
       "       32.87094576, 33.51731241, 32.05659833, 35.27492046, 31.75946005,\n",
       "       31.95977454, 32.53560675, 32.00377532, 32.41829366, 34.12801191,\n",
       "       32.5389402 , 33.63327005, 31.36789762, 27.89859332, 31.68750319,\n",
       "       32.56300726, 32.3942266 , 33.11557229, 33.01541505, 32.00488647,\n",
       "       32.25864651, 32.42742716, 33.29539748, 33.3197758 , 33.85240711,\n",
       "       34.10172255, 32.02173105, 32.52011762, 33.54360177, 35.0101159 ,\n",
       "       30.99793564, 31.11222656, 34.4243503 , 32.25777966, 33.11470545,\n",
       "       30.42105924, 30.28405672, 28.79594214, 31.86739534, 31.80679428,\n",
       "       32.72487671, 27.66643374, 32.47913902, 28.61413896, 31.11969333,\n",
       "       31.70219244, 31.81752754, 33.01485948, 28.43622481, 28.90689961,\n",
       "       28.78458634, 33.14877285, 29.81449308])"
      ]
     },
     "execution_count": 68,
     "metadata": {},
     "output_type": "execute_result"
    }
   ],
   "source": [
    "lg_train_pred = lg.predict(x_train)\n",
    "lg_train_pred"
   ]
  },
  {
   "cell_type": "markdown",
   "id": "e821f4c4",
   "metadata": {},
   "source": [
    "# Predict Test Data"
   ]
  },
  {
   "cell_type": "code",
   "execution_count": 69,
   "id": "83e8db60",
   "metadata": {},
   "outputs": [
    {
     "data": {
      "text/plain": [
       "array([32.78381104, 33.3358205 , 33.53835729, 32.69192045, 34.21212444,\n",
       "       31.67725854, 34.06518855, 28.84685412, 30.99078013, 30.10392027,\n",
       "       31.06631475, 32.42020469, 32.80398907, 32.31726957, 33.37068778,\n",
       "       32.46976122, 34.57875298, 27.38502889, 32.29240264, 33.12192792,\n",
       "       31.62499111, 29.79900395, 33.65042591, 30.31559056, 34.62053146,\n",
       "       28.73534108, 32.5527626 , 32.85187888, 32.99739235, 33.91411932,\n",
       "       33.25917474, 31.27076256, 32.79238897, 32.82670067, 32.58151856,\n",
       "       32.71432078, 31.4254765 , 33.30564213, 31.04995877, 28.31033379,\n",
       "       32.79596672, 32.94981382, 32.61305239, 27.48796401, 34.24588058,\n",
       "       32.5549849 , 31.88399562, 30.89031162, 34.19107957, 33.50571231,\n",
       "       34.39861652, 31.81203876, 31.79074958, 32.97252542, 33.46393383,\n",
       "       32.11393291, 34.88311373, 32.60669677, 31.06489233, 34.43070593,\n",
       "       33.14932842, 31.16313854, 33.31119788, 32.23069043, 32.12966634,\n",
       "       27.92377153, 33.05552681, 31.68837004, 34.34770454, 34.11554496,\n",
       "       32.95092497, 31.93212973, 33.10008317, 33.54804636, 34.5256187 ,\n",
       "       31.88399562, 33.11557229, 32.30511389, 33.7699613 , 32.15762242,\n",
       "       33.37068778])"
      ]
     },
     "execution_count": 69,
     "metadata": {},
     "output_type": "execute_result"
    }
   ],
   "source": [
    "lg_test_pred = lg.predict(x_test)\n",
    "lg_test_pred"
   ]
  },
  {
   "cell_type": "markdown",
   "id": "3e067f6e",
   "metadata": {},
   "source": [
    "# R2 of Train & Test Data"
   ]
  },
  {
   "cell_type": "code",
   "execution_count": 70,
   "id": "508df9c8",
   "metadata": {},
   "outputs": [
    {
     "name": "stdout",
     "output_type": "stream",
     "text": [
      "0.4725991286746958\n"
     ]
    }
   ],
   "source": [
    "#train data\n",
    "train_r2Score=metrics.r2_score(y_train,lg_train_pred)\n",
    "print(train_r2Score)"
   ]
  },
  {
   "cell_type": "code",
   "execution_count": 71,
   "id": "8c2722ff",
   "metadata": {},
   "outputs": [
    {
     "name": "stdout",
     "output_type": "stream",
     "text": [
      "0.4334228064508907\n"
     ]
    }
   ],
   "source": [
    "#test data\n",
    "test_r2Score=metrics.r2_score(y_test,lg_test_pred)\n",
    "print(test_r2Score)"
   ]
  },
  {
   "cell_type": "markdown",
   "id": "1015aa39",
   "metadata": {},
   "source": [
    "# Adjusted R2 of Train & Test Data"
   ]
  },
  {
   "cell_type": "code",
   "execution_count": 72,
   "id": "68653a56",
   "metadata": {},
   "outputs": [
    {
     "data": {
      "text/plain": [
       "0.4057454970982487"
      ]
     },
     "execution_count": 72,
     "metadata": {},
     "output_type": "execute_result"
    }
   ],
   "source": [
    "#train data\n",
    "1- (1-train_r2Score)*(len(y_test)-1)/(len(y_test)-x_test.shape[1]-1)"
   ]
  },
  {
   "cell_type": "code",
   "execution_count": 73,
   "id": "7c91870d",
   "metadata": {},
   "outputs": [
    {
     "data": {
      "text/plain": [
       "0.36160316219818667"
      ]
     },
     "execution_count": 73,
     "metadata": {},
     "output_type": "execute_result"
    }
   ],
   "source": [
    "#test data\n",
    "1- (1-test_r2Score)*(len(y_test)-1)/(len(y_test)-x_test.shape[1]-1)"
   ]
  },
  {
   "cell_type": "markdown",
   "id": "a9e370cb",
   "metadata": {},
   "source": [
    "# Evaluation Metrics -> MSE, MAE, RMSE"
   ]
  },
  {
   "cell_type": "code",
   "execution_count": 74,
   "id": "e3c96b0d",
   "metadata": {},
   "outputs": [
    {
     "name": "stdout",
     "output_type": "stream",
     "text": [
      "7.509621484984801\n",
      "2.237802562526517\n",
      "2.740368859293362\n"
     ]
    }
   ],
   "source": [
    "#train data\n",
    "print(mean_squared_error(y_train, lg_train_pred))\n",
    "print(mean_absolute_error(y_train, lg_train_pred))\n",
    "print(np.sqrt(mean_squared_error(y_train, lg_train_pred)))"
   ]
  },
  {
   "cell_type": "code",
   "execution_count": 75,
   "id": "6572b312",
   "metadata": {},
   "outputs": [
    {
     "name": "stdout",
     "output_type": "stream",
     "text": [
      "6.085458745527471\n",
      "1.9978776414662665\n",
      "2.4668722596696147\n"
     ]
    }
   ],
   "source": [
    "#test data\n",
    "print(mean_squared_error(y_test, lg_test_pred))\n",
    "print(mean_absolute_error(y_test, lg_test_pred))\n",
    "print(np.sqrt(mean_squared_error(y_test, lg_test_pred)))"
   ]
  },
  {
   "cell_type": "markdown",
   "id": "7462670b",
   "metadata": {},
   "source": [
    "# Ridge(L2 Regularization) -> to correct the problem of overfitting\n",
    "# If we find that our training r2 accuracy is great but our testing accuracy is bad after linear regression ,that is called overfitting whihc has to be checked and accordingly if it is the case, then Ridge Regression is applied. \n",
    "\n",
    "\n",
    "\n"
   ]
  },
  {
   "cell_type": "code",
   "execution_count": 76,
   "id": "66bde87a",
   "metadata": {},
   "outputs": [],
   "source": [
    "from sklearn.linear_model import Ridge"
   ]
  },
  {
   "cell_type": "code",
   "execution_count": 77,
   "id": "770f0fe2",
   "metadata": {},
   "outputs": [
    {
     "data": {
      "text/plain": [
       "Ridge()"
      ]
     },
     "execution_count": 77,
     "metadata": {},
     "output_type": "execute_result"
    }
   ],
   "source": [
    "rg = Ridge()\n",
    "rg"
   ]
  },
  {
   "cell_type": "code",
   "execution_count": 78,
   "id": "97e244a5",
   "metadata": {},
   "outputs": [
    {
     "data": {
      "text/plain": [
       "Ridge()"
      ]
     },
     "execution_count": 78,
     "metadata": {},
     "output_type": "execute_result"
    }
   ],
   "source": [
    "rg.fit(x_train, y_train)"
   ]
  },
  {
   "cell_type": "markdown",
   "id": "34a9a0eb",
   "metadata": {},
   "source": [
    "# Predict Train Data"
   ]
  },
  {
   "cell_type": "code",
   "execution_count": 79,
   "id": "7bb6e8ff",
   "metadata": {},
   "outputs": [
    {
     "data": {
      "text/plain": [
       "array([32.8424147 , 33.17456966, 34.26321395, 36.00484722, 32.15102477,\n",
       "       27.67551774, 26.06271777, 33.23687221, 34.1328389 , 31.0414761 ,\n",
       "       33.01977272, 32.23112326, 25.02909396, 34.48501724, 30.02965364,\n",
       "       29.61865329, 30.37391335, 36.9875226 , 32.2601733 , 31.00846174,\n",
       "       34.08729394, 28.95843166, 34.10851608, 31.58981104, 33.91680996,\n",
       "       34.15618859, 34.00555839, 32.92442497, 36.74274733, 30.31160694,\n",
       "       26.09202142, 34.18101628, 32.15445653, 28.25393003, 26.56493243,\n",
       "       33.15616142, 31.32511734, 31.56933207, 34.59002064, 33.69173186,\n",
       "       32.70755168, 30.02201168, 31.6505292 , 33.41487799, 33.43072484,\n",
       "       32.01674522, 33.26094754, 34.78585136, 28.56131132, 30.80122022,\n",
       "       31.74292962, 34.49490253, 35.48759629, 29.06691689, 29.4189981 ,\n",
       "       28.25016345, 29.32589367, 34.8263436 , 29.43855946, 32.92891749,\n",
       "       27.69347998, 34.05023451, 32.63297427, 36.35799681, 34.31566068,\n",
       "       35.82342535, 32.56785803, 27.89395963, 30.13666884, 31.38116399,\n",
       "       29.05971288, 32.49139579, 34.29486071, 29.87555299, 33.74083742,\n",
       "       30.40015697, 35.06869334, 32.69467455, 26.75582672, 36.11004878,\n",
       "       31.93224055, 32.24347607, 34.30162388, 24.64432833, 25.70363513,\n",
       "       30.05609225, 33.47531943, 30.76024497, 32.83517688, 33.76672272,\n",
       "       32.40435011, 35.24664838, 32.85535464, 32.80110727, 32.83464327,\n",
       "       32.25847497, 34.62565158, 34.03748604, 27.19842437, 34.92019408,\n",
       "       31.24765905, 31.33904878, 35.48700492, 27.59217242, 27.61753676,\n",
       "       32.34472338, 35.56316411, 35.07349474, 28.41020175, 34.61203298,\n",
       "       33.91558939, 36.0156843 , 32.1376169 , 38.70632508, 31.45874449,\n",
       "       31.80561175, 32.42844545, 31.84991118, 32.23277909, 36.05872655,\n",
       "       32.70103075, 35.38231806, 31.38508567, 26.02152099, 30.61591674,\n",
       "       32.76194308, 32.89025131, 33.3037096 , 34.36119547, 31.47191454,\n",
       "       32.58207398, 32.99157526, 33.98881713, 34.68246302, 35.10431789,\n",
       "       35.783092  , 31.73006949, 31.92441548, 34.54535181, 37.47068561,\n",
       "       30.7738326 , 29.69335453, 36.358251  , 31.7140689 , 33.73996051,\n",
       "       29.45049388, 28.87789981, 26.23743854, 31.48533179, 31.87251497,\n",
       "       33.41661075, 25.38659531, 33.83936901, 27.1092555 , 30.62992994,\n",
       "       31.30658429, 32.00585252, 33.93985716, 26.5744852 , 26.99494342,\n",
       "       27.07261091, 33.52086835, 27.51731388])"
      ]
     },
     "execution_count": 79,
     "metadata": {},
     "output_type": "execute_result"
    }
   ],
   "source": [
    "rg_train_pred = rg.predict(x_train)\n",
    "rg_train_pred"
   ]
  },
  {
   "cell_type": "markdown",
   "id": "68d63f34",
   "metadata": {},
   "source": [
    "# Predict Test Data"
   ]
  },
  {
   "cell_type": "code",
   "execution_count": 80,
   "id": "2ffe6c6e",
   "metadata": {},
   "outputs": [
    {
     "data": {
      "text/plain": [
       "array([33.14323632, 34.21070089, 34.09114032, 33.56752416, 36.55948313,\n",
       "       32.44703296, 35.3076495 , 27.48005814, 30.79183628, 29.54100049,\n",
       "       29.21367382, 33.34834685, 33.67458945, 33.23456146, 34.29011571,\n",
       "       32.23956057, 36.72298056, 25.41550996, 32.25347595, 33.70356924,\n",
       "       30.59274379, 28.37900273, 35.10563804, 28.68470192, 36.34282503,\n",
       "       26.89551084, 32.89034871, 33.40881561, 33.1463464 , 34.60056851,\n",
       "       34.60730493, 31.56649824, 32.71013796, 33.45368404, 32.49394364,\n",
       "       33.14867545, 30.15825167, 34.54714238, 31.71561639, 23.96321043,\n",
       "       33.87689335, 34.0386132 , 32.32190296, 25.02157099, 36.06252526,\n",
       "       32.45059419, 31.16972572, 30.33240556, 35.45617094, 34.73164298,\n",
       "       36.64139762, 31.11548131, 30.9399561 , 34.39903892, 33.91079977,\n",
       "       32.34925617, 36.61483462, 32.25776434, 30.18474194, 36.57208928,\n",
       "       33.17705243, 29.89901477, 33.92476017, 32.19217191, 31.67545554,\n",
       "       24.9363717 , 33.23578952, 30.63114085, 36.56706518, 34.97661709,\n",
       "       32.99505017, 31.37087638, 33.38927614, 34.85591784, 36.21839274,\n",
       "       31.49892407, 33.51789226, 32.27531274, 35.50362533, 32.1668161 ,\n",
       "       34.09819364])"
      ]
     },
     "execution_count": 80,
     "metadata": {},
     "output_type": "execute_result"
    }
   ],
   "source": [
    "rg_test_pred = rg.predict(x_test)\n",
    "rg_test_pred"
   ]
  },
  {
   "cell_type": "markdown",
   "id": "086237f2",
   "metadata": {},
   "source": [
    "# R2 of Train & Test Data"
   ]
  },
  {
   "cell_type": "code",
   "execution_count": 81,
   "id": "32320341",
   "metadata": {},
   "outputs": [
    {
     "name": "stdout",
     "output_type": "stream",
     "text": [
      "0.5747228515616488\n"
     ]
    }
   ],
   "source": [
    "#train data\n",
    "train_r2Score=metrics.r2_score(y_train,rg_train_pred)\n",
    "print(train_r2Score)"
   ]
  },
  {
   "cell_type": "code",
   "execution_count": 82,
   "id": "d0f7273f",
   "metadata": {},
   "outputs": [
    {
     "name": "stdout",
     "output_type": "stream",
     "text": [
      "0.5280041433522136\n"
     ]
    }
   ],
   "source": [
    "#test data\n",
    "test_r2Score = metrics.r2_score(y_test, rg_test_pred)\n",
    "print(test_r2Score)"
   ]
  },
  {
   "cell_type": "markdown",
   "id": "53b383f5",
   "metadata": {},
   "source": [
    "# Adjusted R2 of Train & Test Data"
   ]
  },
  {
   "cell_type": "code",
   "execution_count": 83,
   "id": "9acada5d",
   "metadata": {},
   "outputs": [
    {
     "data": {
      "text/plain": [
       "0.5208144806328436"
      ]
     },
     "execution_count": 83,
     "metadata": {},
     "output_type": "execute_result"
    }
   ],
   "source": [
    "#Train data\n",
    "1- (1-train_r2Score)*(len(y_test)-1)/(len(y_test)-x_test.shape[1]-1)"
   ]
  },
  {
   "cell_type": "code",
   "execution_count": 84,
   "id": "8fcd4ad7",
   "metadata": {},
   "outputs": [
    {
     "data": {
      "text/plain": [
       "0.4681736826503815"
      ]
     },
     "execution_count": 84,
     "metadata": {},
     "output_type": "execute_result"
    }
   ],
   "source": [
    "#Test data\n",
    "1- (1-test_r2Score)*(len(y_test)-1)/(len(y_test)-x_test.shape[1]-1)"
   ]
  },
  {
   "cell_type": "markdown",
   "id": "62818c9b",
   "metadata": {},
   "source": [
    "# Evaluation Metrics -> MSE, MAE, RMSE"
   ]
  },
  {
   "cell_type": "code",
   "execution_count": 85,
   "id": "4f887b8a",
   "metadata": {},
   "outputs": [
    {
     "name": "stdout",
     "output_type": "stream",
     "text": [
      "6.055489447638467\n",
      "2.0000146210577543\n",
      "2.460790411156234\n"
     ]
    }
   ],
   "source": [
    "#train data\n",
    "print(mean_squared_error(y_train, rg_train_pred))\n",
    "print(mean_absolute_error(y_train, rg_train_pred))\n",
    "print(np.sqrt(mean_squared_error(y_train, rg_train_pred)))"
   ]
  },
  {
   "cell_type": "code",
   "execution_count": 86,
   "id": "5072f5f7",
   "metadata": {},
   "outputs": [
    {
     "name": "stdout",
     "output_type": "stream",
     "text": [
      "5.069585126957706\n",
      "1.80073039416567\n",
      "2.2515739221614965\n"
     ]
    }
   ],
   "source": [
    "#test data\n",
    "print(mean_squared_error(y_test, rg_test_pred))\n",
    "print(mean_absolute_error(y_test, rg_test_pred))\n",
    "print(np.sqrt(mean_squared_error(y_test, rg_test_pred)))"
   ]
  },
  {
   "cell_type": "markdown",
   "id": "b2856772",
   "metadata": {},
   "source": [
    "# Elastic Net Regression -> a combination of Ridge and Lasso regularization."
   ]
  },
  {
   "cell_type": "code",
   "execution_count": 87,
   "id": "ee1c0679",
   "metadata": {},
   "outputs": [],
   "source": [
    "from sklearn.linear_model import ElasticNet"
   ]
  },
  {
   "cell_type": "code",
   "execution_count": 88,
   "id": "875222a7",
   "metadata": {},
   "outputs": [
    {
     "data": {
      "text/plain": [
       "ElasticNet()"
      ]
     },
     "execution_count": 88,
     "metadata": {},
     "output_type": "execute_result"
    }
   ],
   "source": [
    "e = ElasticNet()\n",
    "e"
   ]
  },
  {
   "cell_type": "code",
   "execution_count": 89,
   "id": "066976d4",
   "metadata": {},
   "outputs": [
    {
     "data": {
      "text/plain": [
       "ElasticNet()"
      ]
     },
     "execution_count": 89,
     "metadata": {},
     "output_type": "execute_result"
    }
   ],
   "source": [
    "e.fit(x_train, y_train)"
   ]
  },
  {
   "cell_type": "markdown",
   "id": "04e0de87",
   "metadata": {},
   "source": [
    "# Prediction of test data"
   ]
  },
  {
   "cell_type": "code",
   "execution_count": 90,
   "id": "9de1e774",
   "metadata": {},
   "outputs": [
    {
     "data": {
      "text/plain": [
       "array([32.67538437, 33.2828665 , 33.39166189, 32.5343083 , 34.69997017,\n",
       "       31.61596447, 34.19531003, 29.04204796, 30.78945991, 30.1535997 ,\n",
       "       30.45648684, 32.29622407, 32.58344482, 32.16558706, 33.82604971,\n",
       "       32.21918869, 35.62580683, 27.8892311 , 32.08953772, 32.9151641 ,\n",
       "       31.11683708, 29.69497431, 33.70865116, 30.13638832, 35.41661253,\n",
       "       28.88641486, 32.34616318, 32.83324149, 32.61166842, 34.18493417,\n",
       "       33.30696124, 31.24118041, 32.69708255, 33.00996384, 32.19526592,\n",
       "       32.45439198, 30.90564496, 33.21982445, 31.07163435, 27.96250937,\n",
       "       32.75963389, 32.7754802 , 32.25119349, 27.83739844, 34.7121453 ,\n",
       "       32.3610018 , 31.61061701, 30.76896815, 34.28964381, 33.58972224,\n",
       "       35.50299464, 31.34199174, 31.49140792, 33.55731238, 33.65086963,\n",
       "       32.1400052 , 36.08248899, 32.08098731, 30.87615492, 34.87532106,\n",
       "       33.06823624, 30.83146556, 33.44890552, 31.90775064, 31.77386393,\n",
       "       27.97773233, 32.98006409, 31.30618039, 35.29635917, 34.09345362,\n",
       "       32.6579378 , 31.48252099, 33.31569017, 33.75372961, 35.22517856,\n",
       "       31.57803565, 33.12804003, 31.95386774, 34.14390925, 31.79962244,\n",
       "       33.48767609])"
      ]
     },
     "execution_count": 90,
     "metadata": {},
     "output_type": "execute_result"
    }
   ],
   "source": [
    "e_test_pred = e.predict(x_test)\n",
    "e_test_pred"
   ]
  },
  {
   "cell_type": "markdown",
   "id": "c6e98d3c",
   "metadata": {},
   "source": [
    "# R2 of Test data"
   ]
  },
  {
   "cell_type": "code",
   "execution_count": 91,
   "id": "24add592",
   "metadata": {},
   "outputs": [
    {
     "name": "stdout",
     "output_type": "stream",
     "text": [
      "0.49608021439053684\n"
     ]
    }
   ],
   "source": [
    "test_r2Score = metrics.r2_score(y_test, e_test_pred)\n",
    "print(test_r2Score)"
   ]
  },
  {
   "cell_type": "markdown",
   "id": "18cd9c9f",
   "metadata": {},
   "source": [
    "# Adjusted R2 of Test data"
   ]
  },
  {
   "cell_type": "code",
   "execution_count": 92,
   "id": "710f8484",
   "metadata": {},
   "outputs": [
    {
     "data": {
      "text/plain": [
       "0.4322030584682105"
      ]
     },
     "execution_count": 92,
     "metadata": {},
     "output_type": "execute_result"
    }
   ],
   "source": [
    "1- (1-test_r2Score)*(len(y_test)-1)/(len(y_test)-x_test.shape[1]-1)"
   ]
  },
  {
   "cell_type": "markdown",
   "id": "25ff8002",
   "metadata": {},
   "source": [
    "# Evaluation Metrics -> MSE, MAE, RMSE"
   ]
  },
  {
   "cell_type": "code",
   "execution_count": 93,
   "id": "8f5d190c",
   "metadata": {},
   "outputs": [
    {
     "name": "stdout",
     "output_type": "stream",
     "text": [
      "5.412471771360901\n",
      "1.851245313107512\n",
      "2.3264719580001176\n"
     ]
    }
   ],
   "source": [
    "#test data\n",
    "print(mean_squared_error(y_test, e_test_pred))\n",
    "print(mean_absolute_error(y_test, e_test_pred))\n",
    "print(np.sqrt(mean_squared_error(y_test, e_test_pred)))"
   ]
  }
 ],
 "metadata": {
  "kernelspec": {
   "display_name": "Python 3 (ipykernel)",
   "language": "python",
   "name": "python3"
  },
  "language_info": {
   "codemirror_mode": {
    "name": "ipython",
    "version": 3
   },
   "file_extension": ".py",
   "mimetype": "text/x-python",
   "name": "python",
   "nbconvert_exporter": "python",
   "pygments_lexer": "ipython3",
   "version": "3.9.7"
  }
 },
 "nbformat": 4,
 "nbformat_minor": 5
}
