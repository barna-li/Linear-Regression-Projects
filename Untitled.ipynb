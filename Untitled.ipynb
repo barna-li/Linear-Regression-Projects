{
 "cells": [
  {
   "cell_type": "code",
   "execution_count": null,
   "id": "3d1e622d",
   "metadata": {},
   "outputs": [],
   "source": [
    "algerian forest fire dataa is used supposedly to trac down th e\n",
    "basisi of this model that has been uploaded i the ."
   ]
  },
  {
   "cell_type": "markdown",
   "id": "6d423837",
   "metadata": {},
   "source": [
    "rught now the case factor seems to be\n",
    "down for the "
   ]
  },
  {
   "cell_type": "raw",
   "id": "8a286ef2",
   "metadata": {},
   "source": [
    "the way the codes have been written"
   ]
  }
 ],
 "metadata": {
  "kernelspec": {
   "display_name": "Python 3 (ipykernel)",
   "language": "python",
   "name": "python3"
  },
  "language_info": {
   "codemirror_mode": {
    "name": "ipython",
    "version": 3
   },
   "file_extension": ".py",
   "mimetype": "text/x-python",
   "name": "python",
   "nbconvert_exporter": "python",
   "pygments_lexer": "ipython3",
   "version": "3.9.7"
  }
 },
 "nbformat": 4,
 "nbformat_minor": 5
}
